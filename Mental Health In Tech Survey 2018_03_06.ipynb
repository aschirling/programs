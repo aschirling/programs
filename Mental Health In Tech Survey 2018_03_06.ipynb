{
 "cells": [
  {
   "cell_type": "markdown",
   "metadata": {
    "_cell_guid": "02034a55-aa87-44cc-b3d3-b37fa7d1dc33",
    "_uuid": "01613113e137f697d47ca7c4dcf4b02b39ad155c"
   },
   "source": [
    "## Exploratory Data Analysis: Mental Health in Tech Survey (2014)\n",
    "\n",
    "\"This dataset is from a 2014 survey that measures attitudes towards mental health and frequency of mental health disorders in the tech workplace.\" The data set and a description of the data are made available at: https://www.kaggle.com/osmi/mental-health-in-tech-survey. The data set was downloaded on February 4, 2018.\n",
    "\n",
    "#### Introduction\n",
    "I'm conducting this analysis to practice my analysis and Python skills on a structured data set including loading, inspecting, wrangling, exploring, and drawing conclusions from data. I'll note my observations with each step in order to explain how I think through and approach the data set. I'll also note questions that arise at each step, although I won't explore all of them in this analysis. \n",
    "\n",
    "(I'm going to let myself do a bit more explaining throughout this analysis than I might normally do in other settings, because I hope that by erring on the side of too much detail, it will be helpful to others who are learning, too!)\n",
    "\n",
    "Kaggle suggested two questions to explore, which I will also address in my analysis. Kaggle's questions are:\n",
    "\n",
    "- How does the frequency of mental health illness and attitudes towards mental health vary by geographic location?\n",
    "- What are the strongest predictors of mental health illness or certain attitudes towards mental health in the workplace?\n",
    "\n",
    "This analysis is a living document and I am continuing to deepen the exploration with each iteration.  I will update this occasionally with the latest version. Thank you for reading! I welcome your questions or comments. -Liz\n",
    "\n",
    "\n",
    "### Table of Contents\n",
    "- <a href=\"#step1\">Step 1: Understand where the data came from</a>\n",
    "- <a href=\"#step2\">Step 2: Load the data and packages</a>\n",
    "- <a href=\"#step3\">Step 3: Inspect the data to begin understanding it/ data profiling</a>\n",
    "- <a href=\"#step4\">Step 4: Clean up the data as identified in Step 3</a>\n",
    "- <a href=\"#step5\">Step 5: Identify patterns in the data</a>\n",
    "- <a href=\"#step6\">Step 6: Answer Kaggle's questions about the data</a>\n",
    "\n",
    "<a id=\"step1\"></a> \n",
    "### Step 1: Understand where the data came from\n",
    "\n",
    "a. How was it collected? \n",
    "\n",
    "- Name: \"Annual Mental Health in Tech Survey\"\n",
    "- Sponsoring Organization: Open Sourcing Mental Illness (OSMI)\n",
    "- Year: 2014\n",
    "- Description: \"With over 1200 responses, we believe the 2014 Mental Health in Tech Survey was the largest survey done on mental health in the tech industry.\" Since then, OSMI has conducted two more surveys, 2016 and 2017.\n",
    "- The original dataset is from Open Sourcing Mental Illness  (OSMI) and can be downloaded here. (https://osmihelp.org/research/) \n",
    "- We do not have access to information about their data collection methods.\n",
    "\n",
    "b/c. Is it a sample, and was it properly sampled?\n",
    "- Yes, it is a sample. We don't have official information about the data collection method, but it appears *not* to be a random sample (the survey link is available on their website), so we can assume that it is not representative.\n",
    "\n",
    "d.\tWas the dataset transformed in any way?\n",
    "- Unknown.\n",
    "\n",
    "e.\tAre there some known problems on the dataset?\n",
    "- Based on the previous analyses of the data (posted on Kaggle), <strong>Gender</strong> and <strong>Age</strong> will need to be cleaned up.\n",
    "- It does <em>not</em> appear that the survey was administered to a representative sample and so, we won't be able to generalize the findings to a broader population. \n",
    "\n",
    "<a id=\"step2\"></a> \n",
    "### Step 2: Load the data and packages"
   ]
  },
  {
   "cell_type": "code",
   "execution_count": 1,
   "metadata": {
    "_cell_guid": "87c98308-2f60-47b0-8007-777feadea29e",
    "_kg_hide-input": false,
    "_kg_hide-output": false,
    "_uuid": "7358d222da406e9bb090d83c4ef0b1f01bcab83d"
   },
   "outputs": [],
   "source": [
    "# Import packages\n",
    "import sys\n",
    "import pandas as pd\n",
    "import seaborn as sns\n",
    "import numpy as np\n",
    "import matplotlib.pyplot as plt\n",
    "from matplotlib.pyplot import pie, axis, show\n",
    "\n",
    "# Display plots inline in the notebook\n",
    "%matplotlib inline \n",
    "\n",
    "# Ignore warning related to pandas_profiling (https://github.com/pandas-profiling/pandas-profiling/issues/68)\n",
    "import warnings\n",
    "warnings.filterwarnings('ignore') \n",
    "\n",
    "# Display all dataframe columns in outputs (it has 27 columns, which is wider than the notebook)\n",
    "# This sets it up to dispaly with a horizontal scroll instead of hiding the middle columns\n",
    "pd.set_option('display.max_columns', 100) \n",
    "\n",
    "# Load in the dataset as mh\n",
    "mh = pd.read_csv(\"/home/alexiss/Desktop/survey.csv\")"
   ]
  },
  {
   "cell_type": "markdown",
   "metadata": {
    "_cell_guid": "bcf14f2c-a2d0-46c7-ac21-0616cac0624d",
    "_uuid": "1364017f0b2e4c92840482382b4d7fbdfb5d51f1"
   },
   "source": [
    "<a id=\"step3\"></a> \n",
    "### Step 3: Inspect the data to begin to understand it / Data Profiling\n",
    "I am adapting the process outlined here: https://www.datacamp.com/community/tutorials/python-data-profiling\n",
    "\n",
    "Review the data types and sample data. What variables am I dealing with? Which variables need to be transformed in some way before they can be analyzed? After the code, I'll note some observations."
   ]
  },
  {
   "cell_type": "code",
   "execution_count": 2,
   "metadata": {
    "_cell_guid": "2cbcb1ea-b2af-45c9-8fce-4b00c213dab1",
    "_uuid": "9b429eb8b0d07d1bbd0bb8a1d135a430bed53491",
    "scrolled": true
   },
   "outputs": [
    {
     "data": {
      "text/plain": [
       "Timestamp                    object\n",
       "Age                           int64\n",
       "Gender                       object\n",
       "Country                      object\n",
       "state                        object\n",
       "self_employed                object\n",
       "family_history               object\n",
       "treatment                    object\n",
       "work_interfere               object\n",
       "no_employees                 object\n",
       "remote_work                  object\n",
       "tech_company                 object\n",
       "benefits                     object\n",
       "care_options                 object\n",
       "wellness_program             object\n",
       "seek_help                    object\n",
       "anonymity                    object\n",
       "leave                        object\n",
       "mental_health_consequence    object\n",
       "phys_health_consequence      object\n",
       "coworkers                    object\n",
       "supervisor                   object\n",
       "mental_health_interview      object\n",
       "phys_health_interview        object\n",
       "mental_vs_physical           object\n",
       "obs_consequence              object\n",
       "comments                     object\n",
       "dtype: object"
      ]
     },
     "execution_count": 2,
     "metadata": {},
     "output_type": "execute_result"
    }
   ],
   "source": [
    "# Display the data type for each variable\n",
    "mh.dtypes"
   ]
  },
  {
   "cell_type": "code",
   "execution_count": 3,
   "metadata": {
    "_cell_guid": "15b014b4-7bce-4c7a-9a1a-2d917e94d27f",
    "_uuid": "4a9d3b2900adbd63975153afd6169e9451487530"
   },
   "outputs": [
    {
     "data": {
      "text/html": [
       "<div>\n",
       "<style scoped>\n",
       "    .dataframe tbody tr th:only-of-type {\n",
       "        vertical-align: middle;\n",
       "    }\n",
       "\n",
       "    .dataframe tbody tr th {\n",
       "        vertical-align: top;\n",
       "    }\n",
       "\n",
       "    .dataframe thead th {\n",
       "        text-align: right;\n",
       "    }\n",
       "</style>\n",
       "<table border=\"1\" class=\"dataframe\">\n",
       "  <thead>\n",
       "    <tr style=\"text-align: right;\">\n",
       "      <th></th>\n",
       "      <th>Timestamp</th>\n",
       "      <th>Age</th>\n",
       "      <th>Gender</th>\n",
       "      <th>Country</th>\n",
       "      <th>state</th>\n",
       "      <th>self_employed</th>\n",
       "      <th>family_history</th>\n",
       "      <th>treatment</th>\n",
       "      <th>work_interfere</th>\n",
       "      <th>no_employees</th>\n",
       "      <th>remote_work</th>\n",
       "      <th>tech_company</th>\n",
       "      <th>benefits</th>\n",
       "      <th>care_options</th>\n",
       "      <th>wellness_program</th>\n",
       "      <th>seek_help</th>\n",
       "      <th>anonymity</th>\n",
       "      <th>leave</th>\n",
       "      <th>mental_health_consequence</th>\n",
       "      <th>phys_health_consequence</th>\n",
       "      <th>coworkers</th>\n",
       "      <th>supervisor</th>\n",
       "      <th>mental_health_interview</th>\n",
       "      <th>phys_health_interview</th>\n",
       "      <th>mental_vs_physical</th>\n",
       "      <th>obs_consequence</th>\n",
       "      <th>comments</th>\n",
       "    </tr>\n",
       "  </thead>\n",
       "  <tbody>\n",
       "    <tr>\n",
       "      <th>0</th>\n",
       "      <td>2014-08-27 11:29:31</td>\n",
       "      <td>37</td>\n",
       "      <td>Female</td>\n",
       "      <td>United States</td>\n",
       "      <td>IL</td>\n",
       "      <td>NaN</td>\n",
       "      <td>No</td>\n",
       "      <td>Yes</td>\n",
       "      <td>Often</td>\n",
       "      <td>6-25</td>\n",
       "      <td>No</td>\n",
       "      <td>Yes</td>\n",
       "      <td>Yes</td>\n",
       "      <td>Not sure</td>\n",
       "      <td>No</td>\n",
       "      <td>Yes</td>\n",
       "      <td>Yes</td>\n",
       "      <td>Somewhat easy</td>\n",
       "      <td>No</td>\n",
       "      <td>No</td>\n",
       "      <td>Some of them</td>\n",
       "      <td>Yes</td>\n",
       "      <td>No</td>\n",
       "      <td>Maybe</td>\n",
       "      <td>Yes</td>\n",
       "      <td>No</td>\n",
       "      <td>NaN</td>\n",
       "    </tr>\n",
       "    <tr>\n",
       "      <th>1</th>\n",
       "      <td>2014-08-27 11:29:37</td>\n",
       "      <td>44</td>\n",
       "      <td>M</td>\n",
       "      <td>United States</td>\n",
       "      <td>IN</td>\n",
       "      <td>NaN</td>\n",
       "      <td>No</td>\n",
       "      <td>No</td>\n",
       "      <td>Rarely</td>\n",
       "      <td>More than 1000</td>\n",
       "      <td>No</td>\n",
       "      <td>No</td>\n",
       "      <td>Don't know</td>\n",
       "      <td>No</td>\n",
       "      <td>Don't know</td>\n",
       "      <td>Don't know</td>\n",
       "      <td>Don't know</td>\n",
       "      <td>Don't know</td>\n",
       "      <td>Maybe</td>\n",
       "      <td>No</td>\n",
       "      <td>No</td>\n",
       "      <td>No</td>\n",
       "      <td>No</td>\n",
       "      <td>No</td>\n",
       "      <td>Don't know</td>\n",
       "      <td>No</td>\n",
       "      <td>NaN</td>\n",
       "    </tr>\n",
       "    <tr>\n",
       "      <th>2</th>\n",
       "      <td>2014-08-27 11:29:44</td>\n",
       "      <td>32</td>\n",
       "      <td>Male</td>\n",
       "      <td>Canada</td>\n",
       "      <td>NaN</td>\n",
       "      <td>NaN</td>\n",
       "      <td>No</td>\n",
       "      <td>No</td>\n",
       "      <td>Rarely</td>\n",
       "      <td>6-25</td>\n",
       "      <td>No</td>\n",
       "      <td>Yes</td>\n",
       "      <td>No</td>\n",
       "      <td>No</td>\n",
       "      <td>No</td>\n",
       "      <td>No</td>\n",
       "      <td>Don't know</td>\n",
       "      <td>Somewhat difficult</td>\n",
       "      <td>No</td>\n",
       "      <td>No</td>\n",
       "      <td>Yes</td>\n",
       "      <td>Yes</td>\n",
       "      <td>Yes</td>\n",
       "      <td>Yes</td>\n",
       "      <td>No</td>\n",
       "      <td>No</td>\n",
       "      <td>NaN</td>\n",
       "    </tr>\n",
       "    <tr>\n",
       "      <th>3</th>\n",
       "      <td>2014-08-27 11:29:46</td>\n",
       "      <td>31</td>\n",
       "      <td>Male</td>\n",
       "      <td>United Kingdom</td>\n",
       "      <td>NaN</td>\n",
       "      <td>NaN</td>\n",
       "      <td>Yes</td>\n",
       "      <td>Yes</td>\n",
       "      <td>Often</td>\n",
       "      <td>26-100</td>\n",
       "      <td>No</td>\n",
       "      <td>Yes</td>\n",
       "      <td>No</td>\n",
       "      <td>Yes</td>\n",
       "      <td>No</td>\n",
       "      <td>No</td>\n",
       "      <td>No</td>\n",
       "      <td>Somewhat difficult</td>\n",
       "      <td>Yes</td>\n",
       "      <td>Yes</td>\n",
       "      <td>Some of them</td>\n",
       "      <td>No</td>\n",
       "      <td>Maybe</td>\n",
       "      <td>Maybe</td>\n",
       "      <td>No</td>\n",
       "      <td>Yes</td>\n",
       "      <td>NaN</td>\n",
       "    </tr>\n",
       "    <tr>\n",
       "      <th>4</th>\n",
       "      <td>2014-08-27 11:30:22</td>\n",
       "      <td>31</td>\n",
       "      <td>Male</td>\n",
       "      <td>United States</td>\n",
       "      <td>TX</td>\n",
       "      <td>NaN</td>\n",
       "      <td>No</td>\n",
       "      <td>No</td>\n",
       "      <td>Never</td>\n",
       "      <td>100-500</td>\n",
       "      <td>Yes</td>\n",
       "      <td>Yes</td>\n",
       "      <td>Yes</td>\n",
       "      <td>No</td>\n",
       "      <td>Don't know</td>\n",
       "      <td>Don't know</td>\n",
       "      <td>Don't know</td>\n",
       "      <td>Don't know</td>\n",
       "      <td>No</td>\n",
       "      <td>No</td>\n",
       "      <td>Some of them</td>\n",
       "      <td>Yes</td>\n",
       "      <td>Yes</td>\n",
       "      <td>Yes</td>\n",
       "      <td>Don't know</td>\n",
       "      <td>No</td>\n",
       "      <td>NaN</td>\n",
       "    </tr>\n",
       "  </tbody>\n",
       "</table>\n",
       "</div>"
      ],
      "text/plain": [
       "             Timestamp  Age  Gender         Country state self_employed  \\\n",
       "0  2014-08-27 11:29:31   37  Female   United States    IL           NaN   \n",
       "1  2014-08-27 11:29:37   44       M   United States    IN           NaN   \n",
       "2  2014-08-27 11:29:44   32    Male          Canada   NaN           NaN   \n",
       "3  2014-08-27 11:29:46   31    Male  United Kingdom   NaN           NaN   \n",
       "4  2014-08-27 11:30:22   31    Male   United States    TX           NaN   \n",
       "\n",
       "  family_history treatment work_interfere    no_employees remote_work  \\\n",
       "0             No       Yes          Often            6-25          No   \n",
       "1             No        No         Rarely  More than 1000          No   \n",
       "2             No        No         Rarely            6-25          No   \n",
       "3            Yes       Yes          Often          26-100          No   \n",
       "4             No        No          Never         100-500         Yes   \n",
       "\n",
       "  tech_company    benefits care_options wellness_program   seek_help  \\\n",
       "0          Yes         Yes     Not sure               No         Yes   \n",
       "1           No  Don't know           No       Don't know  Don't know   \n",
       "2          Yes          No           No               No          No   \n",
       "3          Yes          No          Yes               No          No   \n",
       "4          Yes         Yes           No       Don't know  Don't know   \n",
       "\n",
       "    anonymity               leave mental_health_consequence  \\\n",
       "0         Yes       Somewhat easy                        No   \n",
       "1  Don't know          Don't know                     Maybe   \n",
       "2  Don't know  Somewhat difficult                        No   \n",
       "3          No  Somewhat difficult                       Yes   \n",
       "4  Don't know          Don't know                        No   \n",
       "\n",
       "  phys_health_consequence     coworkers supervisor mental_health_interview  \\\n",
       "0                      No  Some of them        Yes                      No   \n",
       "1                      No            No         No                      No   \n",
       "2                      No           Yes        Yes                     Yes   \n",
       "3                     Yes  Some of them         No                   Maybe   \n",
       "4                      No  Some of them        Yes                     Yes   \n",
       "\n",
       "  phys_health_interview mental_vs_physical obs_consequence comments  \n",
       "0                 Maybe                Yes              No      NaN  \n",
       "1                    No         Don't know              No      NaN  \n",
       "2                   Yes                 No              No      NaN  \n",
       "3                 Maybe                 No             Yes      NaN  \n",
       "4                   Yes         Don't know              No      NaN  "
      ]
     },
     "execution_count": 3,
     "metadata": {},
     "output_type": "execute_result"
    }
   ],
   "source": [
    "# Display the first five rows of the data set\n",
    "mh.head()"
   ]
  },
  {
   "cell_type": "code",
   "execution_count": 4,
   "metadata": {
    "_cell_guid": "4c9ac9d4-de2c-42d0-957b-71e495ab20ad",
    "_uuid": "2360d33dfda9393bba6a01bf9eacc74662ebcd66",
    "scrolled": true
   },
   "outputs": [
    {
     "data": {
      "text/html": [
       "<div>\n",
       "<style scoped>\n",
       "    .dataframe tbody tr th:only-of-type {\n",
       "        vertical-align: middle;\n",
       "    }\n",
       "\n",
       "    .dataframe tbody tr th {\n",
       "        vertical-align: top;\n",
       "    }\n",
       "\n",
       "    .dataframe thead th {\n",
       "        text-align: right;\n",
       "    }\n",
       "</style>\n",
       "<table border=\"1\" class=\"dataframe\">\n",
       "  <thead>\n",
       "    <tr style=\"text-align: right;\">\n",
       "      <th></th>\n",
       "      <th>Timestamp</th>\n",
       "      <th>Age</th>\n",
       "      <th>Gender</th>\n",
       "      <th>Country</th>\n",
       "      <th>state</th>\n",
       "      <th>self_employed</th>\n",
       "      <th>family_history</th>\n",
       "      <th>treatment</th>\n",
       "      <th>work_interfere</th>\n",
       "      <th>no_employees</th>\n",
       "      <th>remote_work</th>\n",
       "      <th>tech_company</th>\n",
       "      <th>benefits</th>\n",
       "      <th>care_options</th>\n",
       "      <th>wellness_program</th>\n",
       "      <th>seek_help</th>\n",
       "      <th>anonymity</th>\n",
       "      <th>leave</th>\n",
       "      <th>mental_health_consequence</th>\n",
       "      <th>phys_health_consequence</th>\n",
       "      <th>coworkers</th>\n",
       "      <th>supervisor</th>\n",
       "      <th>mental_health_interview</th>\n",
       "      <th>phys_health_interview</th>\n",
       "      <th>mental_vs_physical</th>\n",
       "      <th>obs_consequence</th>\n",
       "      <th>comments</th>\n",
       "    </tr>\n",
       "  </thead>\n",
       "  <tbody>\n",
       "    <tr>\n",
       "      <th>311</th>\n",
       "      <td>2014-08-27 14:24:15</td>\n",
       "      <td>35</td>\n",
       "      <td>male</td>\n",
       "      <td>United States</td>\n",
       "      <td>OR</td>\n",
       "      <td>No</td>\n",
       "      <td>No</td>\n",
       "      <td>Yes</td>\n",
       "      <td>Rarely</td>\n",
       "      <td>100-500</td>\n",
       "      <td>No</td>\n",
       "      <td>Yes</td>\n",
       "      <td>Yes</td>\n",
       "      <td>Not sure</td>\n",
       "      <td>Don't know</td>\n",
       "      <td>Yes</td>\n",
       "      <td>Don't know</td>\n",
       "      <td>Don't know</td>\n",
       "      <td>No</td>\n",
       "      <td>No</td>\n",
       "      <td>Some of them</td>\n",
       "      <td>Yes</td>\n",
       "      <td>No</td>\n",
       "      <td>No</td>\n",
       "      <td>Don't know</td>\n",
       "      <td>No</td>\n",
       "      <td>NaN</td>\n",
       "    </tr>\n",
       "    <tr>\n",
       "      <th>669</th>\n",
       "      <td>2014-08-28 07:01:30</td>\n",
       "      <td>43</td>\n",
       "      <td>male</td>\n",
       "      <td>France</td>\n",
       "      <td>NaN</td>\n",
       "      <td>No</td>\n",
       "      <td>No</td>\n",
       "      <td>No</td>\n",
       "      <td>NaN</td>\n",
       "      <td>100-500</td>\n",
       "      <td>No</td>\n",
       "      <td>Yes</td>\n",
       "      <td>Don't know</td>\n",
       "      <td>No</td>\n",
       "      <td>No</td>\n",
       "      <td>No</td>\n",
       "      <td>Don't know</td>\n",
       "      <td>Don't know</td>\n",
       "      <td>No</td>\n",
       "      <td>No</td>\n",
       "      <td>Some of them</td>\n",
       "      <td>Yes</td>\n",
       "      <td>Maybe</td>\n",
       "      <td>Maybe</td>\n",
       "      <td>Don't know</td>\n",
       "      <td>No</td>\n",
       "      <td>NaN</td>\n",
       "    </tr>\n",
       "    <tr>\n",
       "      <th>645</th>\n",
       "      <td>2014-08-28 03:47:30</td>\n",
       "      <td>37</td>\n",
       "      <td>Male</td>\n",
       "      <td>Ireland</td>\n",
       "      <td>NaN</td>\n",
       "      <td>Yes</td>\n",
       "      <td>No</td>\n",
       "      <td>No</td>\n",
       "      <td>Never</td>\n",
       "      <td>6-25</td>\n",
       "      <td>No</td>\n",
       "      <td>Yes</td>\n",
       "      <td>No</td>\n",
       "      <td>No</td>\n",
       "      <td>No</td>\n",
       "      <td>No</td>\n",
       "      <td>Don't know</td>\n",
       "      <td>Don't know</td>\n",
       "      <td>Yes</td>\n",
       "      <td>Maybe</td>\n",
       "      <td>No</td>\n",
       "      <td>No</td>\n",
       "      <td>No</td>\n",
       "      <td>Maybe</td>\n",
       "      <td>Don't know</td>\n",
       "      <td>No</td>\n",
       "      <td>NaN</td>\n",
       "    </tr>\n",
       "    <tr>\n",
       "      <th>1028</th>\n",
       "      <td>2014-08-29 10:32:24</td>\n",
       "      <td>40</td>\n",
       "      <td>female</td>\n",
       "      <td>United States</td>\n",
       "      <td>GA</td>\n",
       "      <td>No</td>\n",
       "      <td>Yes</td>\n",
       "      <td>No</td>\n",
       "      <td>Never</td>\n",
       "      <td>100-500</td>\n",
       "      <td>Yes</td>\n",
       "      <td>Yes</td>\n",
       "      <td>Yes</td>\n",
       "      <td>Yes</td>\n",
       "      <td>Yes</td>\n",
       "      <td>No</td>\n",
       "      <td>Don't know</td>\n",
       "      <td>Don't know</td>\n",
       "      <td>Yes</td>\n",
       "      <td>Yes</td>\n",
       "      <td>No</td>\n",
       "      <td>No</td>\n",
       "      <td>No</td>\n",
       "      <td>No</td>\n",
       "      <td>Don't know</td>\n",
       "      <td>No</td>\n",
       "      <td>NaN</td>\n",
       "    </tr>\n",
       "    <tr>\n",
       "      <th>887</th>\n",
       "      <td>2014-08-28 17:28:58</td>\n",
       "      <td>38</td>\n",
       "      <td>m</td>\n",
       "      <td>United Kingdom</td>\n",
       "      <td>NaN</td>\n",
       "      <td>No</td>\n",
       "      <td>Yes</td>\n",
       "      <td>No</td>\n",
       "      <td>NaN</td>\n",
       "      <td>500-1000</td>\n",
       "      <td>No</td>\n",
       "      <td>No</td>\n",
       "      <td>Yes</td>\n",
       "      <td>Yes</td>\n",
       "      <td>Yes</td>\n",
       "      <td>Yes</td>\n",
       "      <td>Don't know</td>\n",
       "      <td>Somewhat easy</td>\n",
       "      <td>No</td>\n",
       "      <td>No</td>\n",
       "      <td>Some of them</td>\n",
       "      <td>Yes</td>\n",
       "      <td>No</td>\n",
       "      <td>Maybe</td>\n",
       "      <td>No</td>\n",
       "      <td>No</td>\n",
       "      <td>NaN</td>\n",
       "    </tr>\n",
       "    <tr>\n",
       "      <th>979</th>\n",
       "      <td>2014-08-29 08:57:14</td>\n",
       "      <td>28</td>\n",
       "      <td>Male</td>\n",
       "      <td>United Kingdom</td>\n",
       "      <td>NaN</td>\n",
       "      <td>No</td>\n",
       "      <td>Yes</td>\n",
       "      <td>Yes</td>\n",
       "      <td>Often</td>\n",
       "      <td>26-100</td>\n",
       "      <td>No</td>\n",
       "      <td>Yes</td>\n",
       "      <td>No</td>\n",
       "      <td>No</td>\n",
       "      <td>No</td>\n",
       "      <td>No</td>\n",
       "      <td>Don't know</td>\n",
       "      <td>Somewhat easy</td>\n",
       "      <td>Maybe</td>\n",
       "      <td>Maybe</td>\n",
       "      <td>Yes</td>\n",
       "      <td>Yes</td>\n",
       "      <td>No</td>\n",
       "      <td>No</td>\n",
       "      <td>No</td>\n",
       "      <td>No</td>\n",
       "      <td>NaN</td>\n",
       "    </tr>\n",
       "    <tr>\n",
       "      <th>1178</th>\n",
       "      <td>2014-09-26 08:45:56</td>\n",
       "      <td>40</td>\n",
       "      <td>m</td>\n",
       "      <td>China</td>\n",
       "      <td>NaN</td>\n",
       "      <td>Yes</td>\n",
       "      <td>No</td>\n",
       "      <td>No</td>\n",
       "      <td>Sometimes</td>\n",
       "      <td>1-5</td>\n",
       "      <td>Yes</td>\n",
       "      <td>Yes</td>\n",
       "      <td>No</td>\n",
       "      <td>Yes</td>\n",
       "      <td>No</td>\n",
       "      <td>No</td>\n",
       "      <td>Don't know</td>\n",
       "      <td>Somewhat easy</td>\n",
       "      <td>No</td>\n",
       "      <td>No</td>\n",
       "      <td>Some of them</td>\n",
       "      <td>Some of them</td>\n",
       "      <td>Maybe</td>\n",
       "      <td>Maybe</td>\n",
       "      <td>Don't know</td>\n",
       "      <td>No</td>\n",
       "      <td>NaN</td>\n",
       "    </tr>\n",
       "    <tr>\n",
       "      <th>1092</th>\n",
       "      <td>2014-08-29 17:35:16</td>\n",
       "      <td>32</td>\n",
       "      <td>Male</td>\n",
       "      <td>United States</td>\n",
       "      <td>TN</td>\n",
       "      <td>No</td>\n",
       "      <td>Yes</td>\n",
       "      <td>Yes</td>\n",
       "      <td>Often</td>\n",
       "      <td>100-500</td>\n",
       "      <td>No</td>\n",
       "      <td>Yes</td>\n",
       "      <td>No</td>\n",
       "      <td>Yes</td>\n",
       "      <td>No</td>\n",
       "      <td>No</td>\n",
       "      <td>Don't know</td>\n",
       "      <td>Very difficult</td>\n",
       "      <td>Yes</td>\n",
       "      <td>No</td>\n",
       "      <td>Yes</td>\n",
       "      <td>Yes</td>\n",
       "      <td>No</td>\n",
       "      <td>Yes</td>\n",
       "      <td>No</td>\n",
       "      <td>No</td>\n",
       "      <td>NaN</td>\n",
       "    </tr>\n",
       "    <tr>\n",
       "      <th>797</th>\n",
       "      <td>2014-08-28 13:32:37</td>\n",
       "      <td>28</td>\n",
       "      <td>Male</td>\n",
       "      <td>Brazil</td>\n",
       "      <td>NaN</td>\n",
       "      <td>No</td>\n",
       "      <td>No</td>\n",
       "      <td>No</td>\n",
       "      <td>NaN</td>\n",
       "      <td>26-100</td>\n",
       "      <td>No</td>\n",
       "      <td>Yes</td>\n",
       "      <td>Don't know</td>\n",
       "      <td>No</td>\n",
       "      <td>No</td>\n",
       "      <td>No</td>\n",
       "      <td>Don't know</td>\n",
       "      <td>Don't know</td>\n",
       "      <td>Maybe</td>\n",
       "      <td>No</td>\n",
       "      <td>Some of them</td>\n",
       "      <td>Yes</td>\n",
       "      <td>Maybe</td>\n",
       "      <td>Yes</td>\n",
       "      <td>No</td>\n",
       "      <td>Yes</td>\n",
       "      <td>NaN</td>\n",
       "    </tr>\n",
       "    <tr>\n",
       "      <th>243</th>\n",
       "      <td>2014-08-27 13:33:32</td>\n",
       "      <td>25</td>\n",
       "      <td>Male</td>\n",
       "      <td>South Africa</td>\n",
       "      <td>NaN</td>\n",
       "      <td>No</td>\n",
       "      <td>No</td>\n",
       "      <td>No</td>\n",
       "      <td>NaN</td>\n",
       "      <td>6-25</td>\n",
       "      <td>No</td>\n",
       "      <td>Yes</td>\n",
       "      <td>No</td>\n",
       "      <td>No</td>\n",
       "      <td>No</td>\n",
       "      <td>No</td>\n",
       "      <td>Yes</td>\n",
       "      <td>Somewhat difficult</td>\n",
       "      <td>Maybe</td>\n",
       "      <td>No</td>\n",
       "      <td>Some of them</td>\n",
       "      <td>Yes</td>\n",
       "      <td>No</td>\n",
       "      <td>Yes</td>\n",
       "      <td>No</td>\n",
       "      <td>No</td>\n",
       "      <td>NaN</td>\n",
       "    </tr>\n",
       "  </tbody>\n",
       "</table>\n",
       "</div>"
      ],
      "text/plain": [
       "                Timestamp  Age  Gender         Country state self_employed  \\\n",
       "311   2014-08-27 14:24:15   35    male   United States    OR            No   \n",
       "669   2014-08-28 07:01:30   43    male          France   NaN            No   \n",
       "645   2014-08-28 03:47:30   37    Male         Ireland   NaN           Yes   \n",
       "1028  2014-08-29 10:32:24   40  female   United States    GA            No   \n",
       "887   2014-08-28 17:28:58   38       m  United Kingdom   NaN            No   \n",
       "979   2014-08-29 08:57:14   28    Male  United Kingdom   NaN            No   \n",
       "1178  2014-09-26 08:45:56   40       m           China   NaN           Yes   \n",
       "1092  2014-08-29 17:35:16   32    Male   United States    TN            No   \n",
       "797   2014-08-28 13:32:37   28    Male          Brazil   NaN            No   \n",
       "243   2014-08-27 13:33:32   25    Male    South Africa   NaN            No   \n",
       "\n",
       "     family_history treatment work_interfere no_employees remote_work  \\\n",
       "311              No       Yes         Rarely      100-500          No   \n",
       "669              No        No            NaN      100-500          No   \n",
       "645              No        No          Never         6-25          No   \n",
       "1028            Yes        No          Never      100-500         Yes   \n",
       "887             Yes        No            NaN     500-1000          No   \n",
       "979             Yes       Yes          Often       26-100          No   \n",
       "1178             No        No      Sometimes          1-5         Yes   \n",
       "1092            Yes       Yes          Often      100-500          No   \n",
       "797              No        No            NaN       26-100          No   \n",
       "243              No        No            NaN         6-25          No   \n",
       "\n",
       "     tech_company    benefits care_options wellness_program seek_help  \\\n",
       "311           Yes         Yes     Not sure       Don't know       Yes   \n",
       "669           Yes  Don't know           No               No        No   \n",
       "645           Yes          No           No               No        No   \n",
       "1028          Yes         Yes          Yes              Yes        No   \n",
       "887            No         Yes          Yes              Yes       Yes   \n",
       "979           Yes          No           No               No        No   \n",
       "1178          Yes          No          Yes               No        No   \n",
       "1092          Yes          No          Yes               No        No   \n",
       "797           Yes  Don't know           No               No        No   \n",
       "243           Yes          No           No               No        No   \n",
       "\n",
       "       anonymity               leave mental_health_consequence  \\\n",
       "311   Don't know          Don't know                        No   \n",
       "669   Don't know          Don't know                        No   \n",
       "645   Don't know          Don't know                       Yes   \n",
       "1028  Don't know          Don't know                       Yes   \n",
       "887   Don't know       Somewhat easy                        No   \n",
       "979   Don't know       Somewhat easy                     Maybe   \n",
       "1178  Don't know       Somewhat easy                        No   \n",
       "1092  Don't know      Very difficult                       Yes   \n",
       "797   Don't know          Don't know                     Maybe   \n",
       "243          Yes  Somewhat difficult                     Maybe   \n",
       "\n",
       "     phys_health_consequence     coworkers    supervisor  \\\n",
       "311                       No  Some of them           Yes   \n",
       "669                       No  Some of them           Yes   \n",
       "645                    Maybe            No            No   \n",
       "1028                     Yes            No            No   \n",
       "887                       No  Some of them           Yes   \n",
       "979                    Maybe           Yes           Yes   \n",
       "1178                      No  Some of them  Some of them   \n",
       "1092                      No           Yes           Yes   \n",
       "797                       No  Some of them           Yes   \n",
       "243                       No  Some of them           Yes   \n",
       "\n",
       "     mental_health_interview phys_health_interview mental_vs_physical  \\\n",
       "311                       No                    No         Don't know   \n",
       "669                    Maybe                 Maybe         Don't know   \n",
       "645                       No                 Maybe         Don't know   \n",
       "1028                      No                    No         Don't know   \n",
       "887                       No                 Maybe                 No   \n",
       "979                       No                    No                 No   \n",
       "1178                   Maybe                 Maybe         Don't know   \n",
       "1092                      No                   Yes                 No   \n",
       "797                    Maybe                   Yes                 No   \n",
       "243                       No                   Yes                 No   \n",
       "\n",
       "     obs_consequence comments  \n",
       "311               No      NaN  \n",
       "669               No      NaN  \n",
       "645               No      NaN  \n",
       "1028              No      NaN  \n",
       "887               No      NaN  \n",
       "979               No      NaN  \n",
       "1178              No      NaN  \n",
       "1092              No      NaN  \n",
       "797              Yes      NaN  \n",
       "243               No      NaN  "
      ]
     },
     "execution_count": 4,
     "metadata": {},
     "output_type": "execute_result"
    }
   ],
   "source": [
    "# Display a random 10 rows from the data set\n",
    "mh.sample(10)"
   ]
  },
  {
   "cell_type": "code",
   "execution_count": 5,
   "metadata": {
    "collapsed": true,
    "jupyter": {
     "outputs_hidden": true
    }
   },
   "outputs": [
    {
     "data": {
      "application/vnd.jupyter.widget-view+json": {
       "model_id": "5dac46b79dfe4967b77396787f3bc5a3",
       "version_major": 2,
       "version_minor": 0
      },
      "text/plain": [
       "HBox(children=(FloatProgress(value=0.0, description='Summarize dataset', max=41.0, style=ProgressStyle(descrip…"
      ]
     },
     "metadata": {},
     "output_type": "display_data"
    },
    {
     "name": "stdout",
     "output_type": "stream",
     "text": [
      "\n"
     ]
    },
    {
     "ename": "MemoryError",
     "evalue": "Unable to allocate 447. GiB for an array with shape (59988694735,) and data type float64",
     "output_type": "error",
     "traceback": [
      "\u001b[0;31m---------------------------------------------------------------------------\u001b[0m",
      "\u001b[0;31mMemoryError\u001b[0m                               Traceback (most recent call last)",
      "\u001b[0;32m~/tmp/PATH/lib/python3.7/site-packages/IPython/core/formatters.py\u001b[0m in \u001b[0;36m__call__\u001b[0;34m(self, obj)\u001b[0m\n\u001b[1;32m    343\u001b[0m             \u001b[0mmethod\u001b[0m \u001b[0;34m=\u001b[0m \u001b[0mget_real_method\u001b[0m\u001b[0;34m(\u001b[0m\u001b[0mobj\u001b[0m\u001b[0;34m,\u001b[0m \u001b[0mself\u001b[0m\u001b[0;34m.\u001b[0m\u001b[0mprint_method\u001b[0m\u001b[0;34m)\u001b[0m\u001b[0;34m\u001b[0m\u001b[0;34m\u001b[0m\u001b[0m\n\u001b[1;32m    344\u001b[0m             \u001b[0;32mif\u001b[0m \u001b[0mmethod\u001b[0m \u001b[0;32mis\u001b[0m \u001b[0;32mnot\u001b[0m \u001b[0;32mNone\u001b[0m\u001b[0;34m:\u001b[0m\u001b[0;34m\u001b[0m\u001b[0;34m\u001b[0m\u001b[0m\n\u001b[0;32m--> 345\u001b[0;31m                 \u001b[0;32mreturn\u001b[0m \u001b[0mmethod\u001b[0m\u001b[0;34m(\u001b[0m\u001b[0;34m)\u001b[0m\u001b[0;34m\u001b[0m\u001b[0;34m\u001b[0m\u001b[0m\n\u001b[0m\u001b[1;32m    346\u001b[0m             \u001b[0;32mreturn\u001b[0m \u001b[0;32mNone\u001b[0m\u001b[0;34m\u001b[0m\u001b[0;34m\u001b[0m\u001b[0m\n\u001b[1;32m    347\u001b[0m         \u001b[0;32melse\u001b[0m\u001b[0;34m:\u001b[0m\u001b[0;34m\u001b[0m\u001b[0;34m\u001b[0m\u001b[0m\n",
      "\u001b[0;32m~/tmp/PATH/lib/python3.7/site-packages/pandas_profiling/profile_report.py\u001b[0m in \u001b[0;36m_repr_html_\u001b[0;34m(self)\u001b[0m\n\u001b[1;32m    407\u001b[0m     \u001b[0;32mdef\u001b[0m \u001b[0m_repr_html_\u001b[0m\u001b[0;34m(\u001b[0m\u001b[0mself\u001b[0m\u001b[0;34m)\u001b[0m\u001b[0;34m:\u001b[0m\u001b[0;34m\u001b[0m\u001b[0;34m\u001b[0m\u001b[0m\n\u001b[1;32m    408\u001b[0m         \u001b[0;34m\"\"\"The ipython notebook widgets user interface gets called by the jupyter notebook.\"\"\"\u001b[0m\u001b[0;34m\u001b[0m\u001b[0;34m\u001b[0m\u001b[0m\n\u001b[0;32m--> 409\u001b[0;31m         \u001b[0mself\u001b[0m\u001b[0;34m.\u001b[0m\u001b[0mto_notebook_iframe\u001b[0m\u001b[0;34m(\u001b[0m\u001b[0;34m)\u001b[0m\u001b[0;34m\u001b[0m\u001b[0;34m\u001b[0m\u001b[0m\n\u001b[0m\u001b[1;32m    410\u001b[0m \u001b[0;34m\u001b[0m\u001b[0m\n\u001b[1;32m    411\u001b[0m     \u001b[0;32mdef\u001b[0m \u001b[0m__repr__\u001b[0m\u001b[0;34m(\u001b[0m\u001b[0mself\u001b[0m\u001b[0;34m)\u001b[0m\u001b[0;34m:\u001b[0m\u001b[0;34m\u001b[0m\u001b[0;34m\u001b[0m\u001b[0m\n",
      "\u001b[0;32m~/tmp/PATH/lib/python3.7/site-packages/pandas_profiling/profile_report.py\u001b[0m in \u001b[0;36mto_notebook_iframe\u001b[0;34m(self)\u001b[0m\n\u001b[1;32m    387\u001b[0m         \u001b[0;32mwith\u001b[0m \u001b[0mwarnings\u001b[0m\u001b[0;34m.\u001b[0m\u001b[0mcatch_warnings\u001b[0m\u001b[0;34m(\u001b[0m\u001b[0;34m)\u001b[0m\u001b[0;34m:\u001b[0m\u001b[0;34m\u001b[0m\u001b[0;34m\u001b[0m\u001b[0m\n\u001b[1;32m    388\u001b[0m             \u001b[0mwarnings\u001b[0m\u001b[0;34m.\u001b[0m\u001b[0msimplefilter\u001b[0m\u001b[0;34m(\u001b[0m\u001b[0;34m\"ignore\"\u001b[0m\u001b[0;34m)\u001b[0m\u001b[0;34m\u001b[0m\u001b[0;34m\u001b[0m\u001b[0m\n\u001b[0;32m--> 389\u001b[0;31m             \u001b[0mdisplay\u001b[0m\u001b[0;34m(\u001b[0m\u001b[0mget_notebook_iframe\u001b[0m\u001b[0;34m(\u001b[0m\u001b[0mself\u001b[0m\u001b[0;34m)\u001b[0m\u001b[0;34m)\u001b[0m\u001b[0;34m\u001b[0m\u001b[0;34m\u001b[0m\u001b[0m\n\u001b[0m\u001b[1;32m    390\u001b[0m \u001b[0;34m\u001b[0m\u001b[0m\n\u001b[1;32m    391\u001b[0m     \u001b[0;32mdef\u001b[0m \u001b[0mto_widgets\u001b[0m\u001b[0;34m(\u001b[0m\u001b[0mself\u001b[0m\u001b[0;34m)\u001b[0m\u001b[0;34m:\u001b[0m\u001b[0;34m\u001b[0m\u001b[0;34m\u001b[0m\u001b[0m\n",
      "\u001b[0;32m~/tmp/PATH/lib/python3.7/site-packages/pandas_profiling/report/presentation/flavours/widget/notebook.py\u001b[0m in \u001b[0;36mget_notebook_iframe\u001b[0;34m(profile)\u001b[0m\n\u001b[1;32m     63\u001b[0m         \u001b[0moutput\u001b[0m \u001b[0;34m=\u001b[0m \u001b[0mget_notebook_iframe_src\u001b[0m\u001b[0;34m(\u001b[0m\u001b[0mprofile\u001b[0m\u001b[0;34m)\u001b[0m\u001b[0;34m\u001b[0m\u001b[0;34m\u001b[0m\u001b[0m\n\u001b[1;32m     64\u001b[0m     \u001b[0;32melif\u001b[0m \u001b[0mattribute\u001b[0m \u001b[0;34m==\u001b[0m \u001b[0;34m\"srcdoc\"\u001b[0m\u001b[0;34m:\u001b[0m\u001b[0;34m\u001b[0m\u001b[0;34m\u001b[0m\u001b[0m\n\u001b[0;32m---> 65\u001b[0;31m         \u001b[0moutput\u001b[0m \u001b[0;34m=\u001b[0m \u001b[0mget_notebook_iframe_srcdoc\u001b[0m\u001b[0;34m(\u001b[0m\u001b[0mprofile\u001b[0m\u001b[0;34m)\u001b[0m\u001b[0;34m\u001b[0m\u001b[0;34m\u001b[0m\u001b[0m\n\u001b[0m\u001b[1;32m     66\u001b[0m     \u001b[0;32melse\u001b[0m\u001b[0;34m:\u001b[0m\u001b[0;34m\u001b[0m\u001b[0;34m\u001b[0m\u001b[0m\n\u001b[1;32m     67\u001b[0m         raise ValueError(\n",
      "\u001b[0;32m~/tmp/PATH/lib/python3.7/site-packages/pandas_profiling/report/presentation/flavours/widget/notebook.py\u001b[0m in \u001b[0;36mget_notebook_iframe_srcdoc\u001b[0;34m(profile)\u001b[0m\n\u001b[1;32m     21\u001b[0m     \u001b[0mwidth\u001b[0m \u001b[0;34m=\u001b[0m \u001b[0mconfig\u001b[0m\u001b[0;34m[\u001b[0m\u001b[0;34m\"notebook\"\u001b[0m\u001b[0;34m]\u001b[0m\u001b[0;34m[\u001b[0m\u001b[0;34m\"iframe\"\u001b[0m\u001b[0;34m]\u001b[0m\u001b[0;34m[\u001b[0m\u001b[0;34m\"width\"\u001b[0m\u001b[0;34m]\u001b[0m\u001b[0;34m.\u001b[0m\u001b[0mget\u001b[0m\u001b[0;34m(\u001b[0m\u001b[0mstr\u001b[0m\u001b[0;34m)\u001b[0m\u001b[0;34m\u001b[0m\u001b[0;34m\u001b[0m\u001b[0m\n\u001b[1;32m     22\u001b[0m     \u001b[0mheight\u001b[0m \u001b[0;34m=\u001b[0m \u001b[0mconfig\u001b[0m\u001b[0;34m[\u001b[0m\u001b[0;34m\"notebook\"\u001b[0m\u001b[0;34m]\u001b[0m\u001b[0;34m[\u001b[0m\u001b[0;34m\"iframe\"\u001b[0m\u001b[0;34m]\u001b[0m\u001b[0;34m[\u001b[0m\u001b[0;34m\"height\"\u001b[0m\u001b[0;34m]\u001b[0m\u001b[0;34m.\u001b[0m\u001b[0mget\u001b[0m\u001b[0;34m(\u001b[0m\u001b[0mstr\u001b[0m\u001b[0;34m)\u001b[0m\u001b[0;34m\u001b[0m\u001b[0;34m\u001b[0m\u001b[0m\n\u001b[0;32m---> 23\u001b[0;31m     \u001b[0msrc\u001b[0m \u001b[0;34m=\u001b[0m \u001b[0mhtml\u001b[0m\u001b[0;34m.\u001b[0m\u001b[0mescape\u001b[0m\u001b[0;34m(\u001b[0m\u001b[0mprofile\u001b[0m\u001b[0;34m.\u001b[0m\u001b[0mto_html\u001b[0m\u001b[0;34m(\u001b[0m\u001b[0;34m)\u001b[0m\u001b[0;34m)\u001b[0m\u001b[0;34m\u001b[0m\u001b[0;34m\u001b[0m\u001b[0m\n\u001b[0m\u001b[1;32m     24\u001b[0m \u001b[0;34m\u001b[0m\u001b[0m\n\u001b[1;32m     25\u001b[0m     \u001b[0miframe\u001b[0m \u001b[0;34m=\u001b[0m \u001b[0;34mf'<iframe width=\"{width}\" height=\"{height}\" srcdoc=\"{src}\" frameborder=\"0\" allowfullscreen></iframe>'\u001b[0m\u001b[0;34m\u001b[0m\u001b[0;34m\u001b[0m\u001b[0m\n",
      "\u001b[0;32m~/tmp/PATH/lib/python3.7/site-packages/pandas_profiling/profile_report.py\u001b[0m in \u001b[0;36mto_html\u001b[0;34m(self)\u001b[0m\n\u001b[1;32m    357\u001b[0m \u001b[0;34m\u001b[0m\u001b[0m\n\u001b[1;32m    358\u001b[0m         \"\"\"\n\u001b[0;32m--> 359\u001b[0;31m         \u001b[0;32mreturn\u001b[0m \u001b[0mself\u001b[0m\u001b[0;34m.\u001b[0m\u001b[0mhtml\u001b[0m\u001b[0;34m\u001b[0m\u001b[0;34m\u001b[0m\u001b[0m\n\u001b[0m\u001b[1;32m    360\u001b[0m \u001b[0;34m\u001b[0m\u001b[0m\n\u001b[1;32m    361\u001b[0m     \u001b[0;32mdef\u001b[0m \u001b[0mto_json\u001b[0m\u001b[0;34m(\u001b[0m\u001b[0mself\u001b[0m\u001b[0;34m)\u001b[0m \u001b[0;34m->\u001b[0m \u001b[0mstr\u001b[0m\u001b[0;34m:\u001b[0m\u001b[0;34m\u001b[0m\u001b[0;34m\u001b[0m\u001b[0m\n",
      "\u001b[0;32m~/tmp/PATH/lib/python3.7/site-packages/pandas_profiling/profile_report.py\u001b[0m in \u001b[0;36mhtml\u001b[0;34m(self)\u001b[0m\n\u001b[1;32m    177\u001b[0m     \u001b[0;32mdef\u001b[0m \u001b[0mhtml\u001b[0m\u001b[0;34m(\u001b[0m\u001b[0mself\u001b[0m\u001b[0;34m)\u001b[0m\u001b[0;34m:\u001b[0m\u001b[0;34m\u001b[0m\u001b[0;34m\u001b[0m\u001b[0m\n\u001b[1;32m    178\u001b[0m         \u001b[0;32mif\u001b[0m \u001b[0mself\u001b[0m\u001b[0;34m.\u001b[0m\u001b[0m_html\u001b[0m \u001b[0;32mis\u001b[0m \u001b[0;32mNone\u001b[0m\u001b[0;34m:\u001b[0m\u001b[0;34m\u001b[0m\u001b[0;34m\u001b[0m\u001b[0m\n\u001b[0;32m--> 179\u001b[0;31m             \u001b[0mself\u001b[0m\u001b[0;34m.\u001b[0m\u001b[0m_html\u001b[0m \u001b[0;34m=\u001b[0m \u001b[0mself\u001b[0m\u001b[0;34m.\u001b[0m\u001b[0m_render_html\u001b[0m\u001b[0;34m(\u001b[0m\u001b[0;34m)\u001b[0m\u001b[0;34m\u001b[0m\u001b[0;34m\u001b[0m\u001b[0m\n\u001b[0m\u001b[1;32m    180\u001b[0m         \u001b[0;32mreturn\u001b[0m \u001b[0mself\u001b[0m\u001b[0;34m.\u001b[0m\u001b[0m_html\u001b[0m\u001b[0;34m\u001b[0m\u001b[0;34m\u001b[0m\u001b[0m\n\u001b[1;32m    181\u001b[0m \u001b[0;34m\u001b[0m\u001b[0m\n",
      "\u001b[0;32m~/tmp/PATH/lib/python3.7/site-packages/pandas_profiling/profile_report.py\u001b[0m in \u001b[0;36m_render_html\u001b[0;34m(self)\u001b[0m\n\u001b[1;32m    284\u001b[0m         \u001b[0;32mfrom\u001b[0m \u001b[0mpandas_profiling\u001b[0m\u001b[0;34m.\u001b[0m\u001b[0mreport\u001b[0m\u001b[0;34m.\u001b[0m\u001b[0mpresentation\u001b[0m\u001b[0;34m.\u001b[0m\u001b[0mflavours\u001b[0m \u001b[0;32mimport\u001b[0m \u001b[0mHTMLReport\u001b[0m\u001b[0;34m\u001b[0m\u001b[0;34m\u001b[0m\u001b[0m\n\u001b[1;32m    285\u001b[0m \u001b[0;34m\u001b[0m\u001b[0m\n\u001b[0;32m--> 286\u001b[0;31m         \u001b[0mreport\u001b[0m \u001b[0;34m=\u001b[0m \u001b[0mself\u001b[0m\u001b[0;34m.\u001b[0m\u001b[0mreport\u001b[0m\u001b[0;34m\u001b[0m\u001b[0;34m\u001b[0m\u001b[0m\n\u001b[0m\u001b[1;32m    287\u001b[0m \u001b[0;34m\u001b[0m\u001b[0m\n\u001b[1;32m    288\u001b[0m         \u001b[0mdisable_progress_bar\u001b[0m \u001b[0;34m=\u001b[0m \u001b[0;32mnot\u001b[0m \u001b[0mconfig\u001b[0m\u001b[0;34m[\u001b[0m\u001b[0;34m\"progress_bar\"\u001b[0m\u001b[0;34m]\u001b[0m\u001b[0;34m.\u001b[0m\u001b[0mget\u001b[0m\u001b[0;34m(\u001b[0m\u001b[0mbool\u001b[0m\u001b[0;34m)\u001b[0m\u001b[0;34m\u001b[0m\u001b[0;34m\u001b[0m\u001b[0m\n",
      "\u001b[0;32m~/tmp/PATH/lib/python3.7/site-packages/pandas_profiling/profile_report.py\u001b[0m in \u001b[0;36mreport\u001b[0;34m(self)\u001b[0m\n\u001b[1;32m    171\u001b[0m     \u001b[0;32mdef\u001b[0m \u001b[0mreport\u001b[0m\u001b[0;34m(\u001b[0m\u001b[0mself\u001b[0m\u001b[0;34m)\u001b[0m\u001b[0;34m:\u001b[0m\u001b[0;34m\u001b[0m\u001b[0;34m\u001b[0m\u001b[0m\n\u001b[1;32m    172\u001b[0m         \u001b[0;32mif\u001b[0m \u001b[0mself\u001b[0m\u001b[0;34m.\u001b[0m\u001b[0m_report\u001b[0m \u001b[0;32mis\u001b[0m \u001b[0;32mNone\u001b[0m\u001b[0;34m:\u001b[0m\u001b[0;34m\u001b[0m\u001b[0;34m\u001b[0m\u001b[0m\n\u001b[0;32m--> 173\u001b[0;31m             \u001b[0mself\u001b[0m\u001b[0;34m.\u001b[0m\u001b[0m_report\u001b[0m \u001b[0;34m=\u001b[0m \u001b[0mget_report_structure\u001b[0m\u001b[0;34m(\u001b[0m\u001b[0mself\u001b[0m\u001b[0;34m.\u001b[0m\u001b[0mdescription_set\u001b[0m\u001b[0;34m)\u001b[0m\u001b[0;34m\u001b[0m\u001b[0;34m\u001b[0m\u001b[0m\n\u001b[0m\u001b[1;32m    174\u001b[0m         \u001b[0;32mreturn\u001b[0m \u001b[0mself\u001b[0m\u001b[0;34m.\u001b[0m\u001b[0m_report\u001b[0m\u001b[0;34m\u001b[0m\u001b[0;34m\u001b[0m\u001b[0m\n\u001b[1;32m    175\u001b[0m \u001b[0;34m\u001b[0m\u001b[0m\n",
      "\u001b[0;32m~/tmp/PATH/lib/python3.7/site-packages/pandas_profiling/profile_report.py\u001b[0m in \u001b[0;36mdescription_set\u001b[0;34m(self)\u001b[0m\n\u001b[1;32m    152\u001b[0m     \u001b[0;32mdef\u001b[0m \u001b[0mdescription_set\u001b[0m\u001b[0;34m(\u001b[0m\u001b[0mself\u001b[0m\u001b[0;34m)\u001b[0m\u001b[0;34m:\u001b[0m\u001b[0;34m\u001b[0m\u001b[0;34m\u001b[0m\u001b[0m\n\u001b[1;32m    153\u001b[0m         \u001b[0;32mif\u001b[0m \u001b[0mself\u001b[0m\u001b[0;34m.\u001b[0m\u001b[0m_description_set\u001b[0m \u001b[0;32mis\u001b[0m \u001b[0;32mNone\u001b[0m\u001b[0;34m:\u001b[0m\u001b[0;34m\u001b[0m\u001b[0;34m\u001b[0m\u001b[0m\n\u001b[0;32m--> 154\u001b[0;31m             \u001b[0mself\u001b[0m\u001b[0;34m.\u001b[0m\u001b[0m_description_set\u001b[0m \u001b[0;34m=\u001b[0m \u001b[0mdescribe_df\u001b[0m\u001b[0;34m(\u001b[0m\u001b[0mself\u001b[0m\u001b[0;34m.\u001b[0m\u001b[0mtitle\u001b[0m\u001b[0;34m,\u001b[0m \u001b[0mself\u001b[0m\u001b[0;34m.\u001b[0m\u001b[0mdf\u001b[0m\u001b[0;34m,\u001b[0m \u001b[0mself\u001b[0m\u001b[0;34m.\u001b[0m\u001b[0m_sample\u001b[0m\u001b[0;34m)\u001b[0m\u001b[0;34m\u001b[0m\u001b[0;34m\u001b[0m\u001b[0m\n\u001b[0m\u001b[1;32m    155\u001b[0m         \u001b[0;32mreturn\u001b[0m \u001b[0mself\u001b[0m\u001b[0;34m.\u001b[0m\u001b[0m_description_set\u001b[0m\u001b[0;34m\u001b[0m\u001b[0;34m\u001b[0m\u001b[0m\n\u001b[1;32m    156\u001b[0m \u001b[0;34m\u001b[0m\u001b[0m\n",
      "\u001b[0;32m~/tmp/PATH/lib/python3.7/site-packages/pandas_profiling/model/describe.py\u001b[0m in \u001b[0;36mdescribe\u001b[0;34m(title, df, sample)\u001b[0m\n\u001b[1;32m     64\u001b[0m         \u001b[0mtotal\u001b[0m\u001b[0;34m=\u001b[0m\u001b[0mnumber_of_tasks\u001b[0m\u001b[0;34m,\u001b[0m \u001b[0mdesc\u001b[0m\u001b[0;34m=\u001b[0m\u001b[0;34m\"Summarize dataset\"\u001b[0m\u001b[0;34m,\u001b[0m \u001b[0mdisable\u001b[0m\u001b[0;34m=\u001b[0m\u001b[0mdisable_progress_bar\u001b[0m\u001b[0;34m\u001b[0m\u001b[0;34m\u001b[0m\u001b[0m\n\u001b[1;32m     65\u001b[0m     ) as pbar:\n\u001b[0;32m---> 66\u001b[0;31m         \u001b[0mseries_description\u001b[0m \u001b[0;34m=\u001b[0m \u001b[0mget_series_descriptions\u001b[0m\u001b[0;34m(\u001b[0m\u001b[0mdf\u001b[0m\u001b[0;34m,\u001b[0m \u001b[0mpbar\u001b[0m\u001b[0;34m)\u001b[0m\u001b[0;34m\u001b[0m\u001b[0;34m\u001b[0m\u001b[0m\n\u001b[0m\u001b[1;32m     67\u001b[0m \u001b[0;34m\u001b[0m\u001b[0m\n\u001b[1;32m     68\u001b[0m         \u001b[0mpbar\u001b[0m\u001b[0;34m.\u001b[0m\u001b[0mset_postfix_str\u001b[0m\u001b[0;34m(\u001b[0m\u001b[0;34m\"Get variable types\"\u001b[0m\u001b[0;34m)\u001b[0m\u001b[0;34m\u001b[0m\u001b[0;34m\u001b[0m\u001b[0m\n",
      "\u001b[0;32m~/tmp/PATH/lib/python3.7/site-packages/pandas_profiling/model/summary.py\u001b[0m in \u001b[0;36mget_series_descriptions\u001b[0;34m(df, pbar)\u001b[0m\n\u001b[1;32m    508\u001b[0m         \u001b[0;32mwith\u001b[0m \u001b[0mmultiprocessing\u001b[0m\u001b[0;34m.\u001b[0m\u001b[0mpool\u001b[0m\u001b[0;34m.\u001b[0m\u001b[0mThreadPool\u001b[0m\u001b[0;34m(\u001b[0m\u001b[0mpool_size\u001b[0m\u001b[0;34m)\u001b[0m \u001b[0;32mas\u001b[0m \u001b[0mexecutor\u001b[0m\u001b[0;34m:\u001b[0m\u001b[0;34m\u001b[0m\u001b[0;34m\u001b[0m\u001b[0m\n\u001b[1;32m    509\u001b[0m             for i, (column, description) in enumerate(\n\u001b[0;32m--> 510\u001b[0;31m                 \u001b[0mexecutor\u001b[0m\u001b[0;34m.\u001b[0m\u001b[0mimap_unordered\u001b[0m\u001b[0;34m(\u001b[0m\u001b[0mmultiprocess_1d\u001b[0m\u001b[0;34m,\u001b[0m \u001b[0margs\u001b[0m\u001b[0;34m)\u001b[0m\u001b[0;34m\u001b[0m\u001b[0;34m\u001b[0m\u001b[0m\n\u001b[0m\u001b[1;32m    511\u001b[0m             ):\n\u001b[1;32m    512\u001b[0m                 \u001b[0mpbar\u001b[0m\u001b[0;34m.\u001b[0m\u001b[0mset_postfix_str\u001b[0m\u001b[0;34m(\u001b[0m\u001b[0;34mf\"Describe variable:{column}\"\u001b[0m\u001b[0;34m)\u001b[0m\u001b[0;34m\u001b[0m\u001b[0;34m\u001b[0m\u001b[0m\n",
      "\u001b[0;32m~/tmp/PATH/lib/python3.7/multiprocessing/pool.py\u001b[0m in \u001b[0;36mnext\u001b[0;34m(self, timeout)\u001b[0m\n\u001b[1;32m    746\u001b[0m         \u001b[0;32mif\u001b[0m \u001b[0msuccess\u001b[0m\u001b[0;34m:\u001b[0m\u001b[0;34m\u001b[0m\u001b[0;34m\u001b[0m\u001b[0m\n\u001b[1;32m    747\u001b[0m             \u001b[0;32mreturn\u001b[0m \u001b[0mvalue\u001b[0m\u001b[0;34m\u001b[0m\u001b[0;34m\u001b[0m\u001b[0m\n\u001b[0;32m--> 748\u001b[0;31m         \u001b[0;32mraise\u001b[0m \u001b[0mvalue\u001b[0m\u001b[0;34m\u001b[0m\u001b[0;34m\u001b[0m\u001b[0m\n\u001b[0m\u001b[1;32m    749\u001b[0m \u001b[0;34m\u001b[0m\u001b[0m\n\u001b[1;32m    750\u001b[0m     \u001b[0m__next__\u001b[0m \u001b[0;34m=\u001b[0m \u001b[0mnext\u001b[0m                    \u001b[0;31m# XXX\u001b[0m\u001b[0;34m\u001b[0m\u001b[0;34m\u001b[0m\u001b[0m\n",
      "\u001b[0;32m~/tmp/PATH/lib/python3.7/multiprocessing/pool.py\u001b[0m in \u001b[0;36mworker\u001b[0;34m(inqueue, outqueue, initializer, initargs, maxtasks, wrap_exception)\u001b[0m\n\u001b[1;32m    119\u001b[0m         \u001b[0mjob\u001b[0m\u001b[0;34m,\u001b[0m \u001b[0mi\u001b[0m\u001b[0;34m,\u001b[0m \u001b[0mfunc\u001b[0m\u001b[0;34m,\u001b[0m \u001b[0margs\u001b[0m\u001b[0;34m,\u001b[0m \u001b[0mkwds\u001b[0m \u001b[0;34m=\u001b[0m \u001b[0mtask\u001b[0m\u001b[0;34m\u001b[0m\u001b[0;34m\u001b[0m\u001b[0m\n\u001b[1;32m    120\u001b[0m         \u001b[0;32mtry\u001b[0m\u001b[0;34m:\u001b[0m\u001b[0;34m\u001b[0m\u001b[0;34m\u001b[0m\u001b[0m\n\u001b[0;32m--> 121\u001b[0;31m             \u001b[0mresult\u001b[0m \u001b[0;34m=\u001b[0m \u001b[0;34m(\u001b[0m\u001b[0;32mTrue\u001b[0m\u001b[0;34m,\u001b[0m \u001b[0mfunc\u001b[0m\u001b[0;34m(\u001b[0m\u001b[0;34m*\u001b[0m\u001b[0margs\u001b[0m\u001b[0;34m,\u001b[0m \u001b[0;34m**\u001b[0m\u001b[0mkwds\u001b[0m\u001b[0;34m)\u001b[0m\u001b[0;34m)\u001b[0m\u001b[0;34m\u001b[0m\u001b[0;34m\u001b[0m\u001b[0m\n\u001b[0m\u001b[1;32m    122\u001b[0m         \u001b[0;32mexcept\u001b[0m \u001b[0mException\u001b[0m \u001b[0;32mas\u001b[0m \u001b[0me\u001b[0m\u001b[0;34m:\u001b[0m\u001b[0;34m\u001b[0m\u001b[0;34m\u001b[0m\u001b[0m\n\u001b[1;32m    123\u001b[0m             \u001b[0;32mif\u001b[0m \u001b[0mwrap_exception\u001b[0m \u001b[0;32mand\u001b[0m \u001b[0mfunc\u001b[0m \u001b[0;32mis\u001b[0m \u001b[0;32mnot\u001b[0m \u001b[0m_helper_reraises_exception\u001b[0m\u001b[0;34m:\u001b[0m\u001b[0;34m\u001b[0m\u001b[0;34m\u001b[0m\u001b[0m\n",
      "\u001b[0;32m~/tmp/PATH/lib/python3.7/site-packages/pandas_profiling/model/summary.py\u001b[0m in \u001b[0;36mmultiprocess_1d\u001b[0;34m(args)\u001b[0m\n\u001b[1;32m    485\u001b[0m         \"\"\"\n\u001b[1;32m    486\u001b[0m         \u001b[0mcolumn\u001b[0m\u001b[0;34m,\u001b[0m \u001b[0mseries\u001b[0m \u001b[0;34m=\u001b[0m \u001b[0margs\u001b[0m\u001b[0;34m\u001b[0m\u001b[0;34m\u001b[0m\u001b[0m\n\u001b[0;32m--> 487\u001b[0;31m         \u001b[0;32mreturn\u001b[0m \u001b[0mcolumn\u001b[0m\u001b[0;34m,\u001b[0m \u001b[0mdescribe_1d\u001b[0m\u001b[0;34m(\u001b[0m\u001b[0mseries\u001b[0m\u001b[0;34m)\u001b[0m\u001b[0;34m\u001b[0m\u001b[0;34m\u001b[0m\u001b[0m\n\u001b[0m\u001b[1;32m    488\u001b[0m \u001b[0;34m\u001b[0m\u001b[0m\n\u001b[1;32m    489\u001b[0m     \u001b[0;31m# Multiprocessing of Describe 1D for each column\u001b[0m\u001b[0;34m\u001b[0m\u001b[0;34m\u001b[0m\u001b[0;34m\u001b[0m\u001b[0m\n",
      "\u001b[0;32m~/tmp/PATH/lib/python3.7/site-packages/pandas_profiling/model/summary.py\u001b[0m in \u001b[0;36mdescribe_1d\u001b[0;34m(series)\u001b[0m\n\u001b[1;32m    454\u001b[0m         \u001b[0;32mif\u001b[0m \u001b[0mseries_description\u001b[0m\u001b[0;34m[\u001b[0m\u001b[0;34m\"type\"\u001b[0m\u001b[0;34m]\u001b[0m \u001b[0;32min\u001b[0m \u001b[0mtype_to_func\u001b[0m\u001b[0;34m:\u001b[0m\u001b[0;34m\u001b[0m\u001b[0;34m\u001b[0m\u001b[0m\n\u001b[1;32m    455\u001b[0m             series_description.update(\n\u001b[0;32m--> 456\u001b[0;31m                 \u001b[0mtype_to_func\u001b[0m\u001b[0;34m[\u001b[0m\u001b[0mseries_description\u001b[0m\u001b[0;34m[\u001b[0m\u001b[0;34m\"type\"\u001b[0m\u001b[0;34m]\u001b[0m\u001b[0;34m]\u001b[0m\u001b[0;34m(\u001b[0m\u001b[0mseries\u001b[0m\u001b[0;34m,\u001b[0m \u001b[0mseries_description\u001b[0m\u001b[0;34m)\u001b[0m\u001b[0;34m\u001b[0m\u001b[0;34m\u001b[0m\u001b[0m\n\u001b[0m\u001b[1;32m    457\u001b[0m             )\n\u001b[1;32m    458\u001b[0m         \u001b[0;32melse\u001b[0m\u001b[0;34m:\u001b[0m\u001b[0;34m\u001b[0m\u001b[0;34m\u001b[0m\u001b[0m\n",
      "\u001b[0;32m~/tmp/PATH/lib/python3.7/site-packages/pandas_profiling/model/summary.py\u001b[0m in \u001b[0;36mdescribe_numeric_1d\u001b[0;34m(series, series_description)\u001b[0m\n\u001b[1;32m    216\u001b[0m         )\n\u001b[1;32m    217\u001b[0m         \u001b[0;32mif\u001b[0m \u001b[0mchi_squared_threshold\u001b[0m \u001b[0;34m>\u001b[0m \u001b[0;36m0.0\u001b[0m\u001b[0;34m:\u001b[0m\u001b[0;34m\u001b[0m\u001b[0;34m\u001b[0m\u001b[0m\n\u001b[0;32m--> 218\u001b[0;31m             \u001b[0mhistogram\u001b[0m\u001b[0;34m,\u001b[0m \u001b[0m_\u001b[0m \u001b[0;34m=\u001b[0m \u001b[0mnp\u001b[0m\u001b[0;34m.\u001b[0m\u001b[0mhistogram\u001b[0m\u001b[0;34m(\u001b[0m\u001b[0mfinite_values\u001b[0m\u001b[0;34m,\u001b[0m \u001b[0mbins\u001b[0m\u001b[0;34m=\u001b[0m\u001b[0;34m\"auto\"\u001b[0m\u001b[0;34m)\u001b[0m\u001b[0;34m\u001b[0m\u001b[0;34m\u001b[0m\u001b[0m\n\u001b[0m\u001b[1;32m    219\u001b[0m             \u001b[0mstats\u001b[0m\u001b[0;34m[\u001b[0m\u001b[0;34m\"chi_squared\"\u001b[0m\u001b[0;34m]\u001b[0m \u001b[0;34m=\u001b[0m \u001b[0mchisquare\u001b[0m\u001b[0;34m(\u001b[0m\u001b[0mhistogram\u001b[0m\u001b[0;34m)\u001b[0m\u001b[0;34m\u001b[0m\u001b[0;34m\u001b[0m\u001b[0m\n\u001b[1;32m    220\u001b[0m \u001b[0;34m\u001b[0m\u001b[0m\n",
      "\u001b[0;32m<__array_function__ internals>\u001b[0m in \u001b[0;36mhistogram\u001b[0;34m(*args, **kwargs)\u001b[0m\n",
      "\u001b[0;32m~/tmp/PATH/lib/python3.7/site-packages/numpy/lib/histograms.py\u001b[0m in \u001b[0;36mhistogram\u001b[0;34m(a, bins, range, normed, weights, density)\u001b[0m\n\u001b[1;32m    793\u001b[0m     \u001b[0ma\u001b[0m\u001b[0;34m,\u001b[0m \u001b[0mweights\u001b[0m \u001b[0;34m=\u001b[0m \u001b[0m_ravel_and_check_weights\u001b[0m\u001b[0;34m(\u001b[0m\u001b[0ma\u001b[0m\u001b[0;34m,\u001b[0m \u001b[0mweights\u001b[0m\u001b[0;34m)\u001b[0m\u001b[0;34m\u001b[0m\u001b[0;34m\u001b[0m\u001b[0m\n\u001b[1;32m    794\u001b[0m \u001b[0;34m\u001b[0m\u001b[0m\n\u001b[0;32m--> 795\u001b[0;31m     \u001b[0mbin_edges\u001b[0m\u001b[0;34m,\u001b[0m \u001b[0muniform_bins\u001b[0m \u001b[0;34m=\u001b[0m \u001b[0m_get_bin_edges\u001b[0m\u001b[0;34m(\u001b[0m\u001b[0ma\u001b[0m\u001b[0;34m,\u001b[0m \u001b[0mbins\u001b[0m\u001b[0;34m,\u001b[0m \u001b[0mrange\u001b[0m\u001b[0;34m,\u001b[0m \u001b[0mweights\u001b[0m\u001b[0;34m)\u001b[0m\u001b[0;34m\u001b[0m\u001b[0;34m\u001b[0m\u001b[0m\n\u001b[0m\u001b[1;32m    796\u001b[0m \u001b[0;34m\u001b[0m\u001b[0m\n\u001b[1;32m    797\u001b[0m     \u001b[0;31m# Histogram is an integer or a float array depending on the weights.\u001b[0m\u001b[0;34m\u001b[0m\u001b[0;34m\u001b[0m\u001b[0;34m\u001b[0m\u001b[0m\n",
      "\u001b[0;32m~/tmp/PATH/lib/python3.7/site-packages/numpy/lib/histograms.py\u001b[0m in \u001b[0;36m_get_bin_edges\u001b[0;34m(a, bins, range, weights)\u001b[0m\n\u001b[1;32m    449\u001b[0m         bin_edges = np.linspace(\n\u001b[1;32m    450\u001b[0m             \u001b[0mfirst_edge\u001b[0m\u001b[0;34m,\u001b[0m \u001b[0mlast_edge\u001b[0m\u001b[0;34m,\u001b[0m \u001b[0mn_equal_bins\u001b[0m \u001b[0;34m+\u001b[0m \u001b[0;36m1\u001b[0m\u001b[0;34m,\u001b[0m\u001b[0;34m\u001b[0m\u001b[0;34m\u001b[0m\u001b[0m\n\u001b[0;32m--> 451\u001b[0;31m             endpoint=True, dtype=bin_type)\n\u001b[0m\u001b[1;32m    452\u001b[0m         \u001b[0;32mreturn\u001b[0m \u001b[0mbin_edges\u001b[0m\u001b[0;34m,\u001b[0m \u001b[0;34m(\u001b[0m\u001b[0mfirst_edge\u001b[0m\u001b[0;34m,\u001b[0m \u001b[0mlast_edge\u001b[0m\u001b[0;34m,\u001b[0m \u001b[0mn_equal_bins\u001b[0m\u001b[0;34m)\u001b[0m\u001b[0;34m\u001b[0m\u001b[0;34m\u001b[0m\u001b[0m\n\u001b[1;32m    453\u001b[0m     \u001b[0;32melse\u001b[0m\u001b[0;34m:\u001b[0m\u001b[0;34m\u001b[0m\u001b[0;34m\u001b[0m\u001b[0m\n",
      "\u001b[0;32m<__array_function__ internals>\u001b[0m in \u001b[0;36mlinspace\u001b[0;34m(*args, **kwargs)\u001b[0m\n",
      "\u001b[0;32m~/tmp/PATH/lib/python3.7/site-packages/numpy/core/function_base.py\u001b[0m in \u001b[0;36mlinspace\u001b[0;34m(start, stop, num, endpoint, retstep, dtype, axis)\u001b[0m\n\u001b[1;32m    135\u001b[0m \u001b[0;34m\u001b[0m\u001b[0m\n\u001b[1;32m    136\u001b[0m     \u001b[0mdelta\u001b[0m \u001b[0;34m=\u001b[0m \u001b[0mstop\u001b[0m \u001b[0;34m-\u001b[0m \u001b[0mstart\u001b[0m\u001b[0;34m\u001b[0m\u001b[0;34m\u001b[0m\u001b[0m\n\u001b[0;32m--> 137\u001b[0;31m     \u001b[0my\u001b[0m \u001b[0;34m=\u001b[0m \u001b[0m_nx\u001b[0m\u001b[0;34m.\u001b[0m\u001b[0marange\u001b[0m\u001b[0;34m(\u001b[0m\u001b[0;36m0\u001b[0m\u001b[0;34m,\u001b[0m \u001b[0mnum\u001b[0m\u001b[0;34m,\u001b[0m \u001b[0mdtype\u001b[0m\u001b[0;34m=\u001b[0m\u001b[0mdt\u001b[0m\u001b[0;34m)\u001b[0m\u001b[0;34m.\u001b[0m\u001b[0mreshape\u001b[0m\u001b[0;34m(\u001b[0m\u001b[0;34m(\u001b[0m\u001b[0;34m-\u001b[0m\u001b[0;36m1\u001b[0m\u001b[0;34m,\u001b[0m\u001b[0;34m)\u001b[0m \u001b[0;34m+\u001b[0m \u001b[0;34m(\u001b[0m\u001b[0;36m1\u001b[0m\u001b[0;34m,\u001b[0m\u001b[0;34m)\u001b[0m \u001b[0;34m*\u001b[0m \u001b[0mndim\u001b[0m\u001b[0;34m(\u001b[0m\u001b[0mdelta\u001b[0m\u001b[0;34m)\u001b[0m\u001b[0;34m)\u001b[0m\u001b[0;34m\u001b[0m\u001b[0;34m\u001b[0m\u001b[0m\n\u001b[0m\u001b[1;32m    138\u001b[0m     \u001b[0;31m# In-place multiplication y *= delta/div is faster, but prevents the multiplicant\u001b[0m\u001b[0;34m\u001b[0m\u001b[0;34m\u001b[0m\u001b[0;34m\u001b[0m\u001b[0m\n\u001b[1;32m    139\u001b[0m     \u001b[0;31m# from overriding what class is produced, and thus prevents, e.g. use of Quantities,\u001b[0m\u001b[0;34m\u001b[0m\u001b[0;34m\u001b[0m\u001b[0;34m\u001b[0m\u001b[0m\n",
      "\u001b[0;31mMemoryError\u001b[0m: Unable to allocate 447. GiB for an array with shape (59988694735,) and data type float64"
     ]
    },
    {
     "data": {
      "text/plain": []
     },
     "execution_count": 5,
     "metadata": {},
     "output_type": "execute_result"
    }
   ],
   "source": [
    "# Get a quick overview of all of the variables using pandas_profiling\n",
    "# Removed command as the error was avalible space and it was not needed for future programs"
   ]
  },
  {
   "cell_type": "markdown",
   "metadata": {
    "_cell_guid": "97bc7f0f-e6e0-43d0-afd3-552c384d85b8",
    "_uuid": "2b973e81559b4cd877756318c68811137e0ac6c2"
   },
   "source": [
    "#### Initial observations after running the code above:\n",
    "\n",
    "- Summary of data types in this dataset:\n",
    " - <em>Numeric</em>: <strong>Age</strong> (integer)\n",
    " - <em>Object</em>: Everything else\n",
    "- <strong>Gender</strong> has 49 distinct responses. I'll group the responses into fewer categories. \n",
    "- <strong>Age</strong> has some values that are too low or too high to be real ages. I'll need to decide what to do about them.\n",
    "- The following variables have null values that I may need to address. I will write out my initial thoughts on them:\n",
    " - <strong>state</strong>:  This should be null only when <strong>country</strong> is something other than the US\n",
    " - <strong>self_employed</strong>: There are 18 missing values. I'll need to investigate why. (Was it an optional question, perhaps?)\n",
    " - <strong>work-interfere</strong>:  There are 264 missing values. The question begins with \"If you have a mental health condition,...\" so I will assume that those who did not respond, did so because they do not have a mental health condition currently. This is an imperfect assumption since we can't know that for sure; and because some people may have felt the need to respond even if they don't have a mental health condition, if they did not feel comfortable leaving a question blank.\n",
    " - <strong>comments</strong>: There are 1095 missing values. It was an optional text box so it's reasonable to expect that many (most) respondents would leave it blank. We may be able to learn something by doing a text analysis on the submitted comments: are there themes that come up in the comments that would inform the next version of the survey - for example, a popular theme might justify creating its own multiple-choice question next time.\n"
   ]
  },
  {
   "cell_type": "code",
   "execution_count": 6,
   "metadata": {
    "_cell_guid": "a19eb500-db4c-4918-a269-46a656624fa9",
    "_uuid": "4a28fefa960f73389540bbe02ffaee1028fbda67"
   },
   "outputs": [
    {
     "name": "stdout",
     "output_type": "stream",
     "text": [
      "'Age'\n",
      "Minimum value:  -1726\n",
      "Maximum value:  99999999999\n",
      "How many values are NaN?:  0\n"
     ]
    }
   ],
   "source": [
    "# Explore the numeric variable Age to confirm whether all values are within a reasonable range and if any are NaN.\n",
    "print(\"'Age'\")\n",
    "print(\"Minimum value: \", mh[\"Age\"].min())\n",
    "print(\"Maximum value: \", mh[\"Age\"].max())\n",
    "print(\"How many values are NaN?: \", pd.isnull(mh['Age']).sum())"
   ]
  },
  {
   "cell_type": "code",
   "execution_count": 7,
   "metadata": {
    "_cell_guid": "82f59e8e-6339-47f5-a0da-ebe29136b2b7",
    "_uuid": "923f820cd342acc19fe31c2aa0761891aa127322"
   },
   "outputs": [
    {
     "name": "stdout",
     "output_type": "stream",
     "text": [
      "Count of distinct responses for Gender: 49\n",
      "Distinct responses for Gender: {'Cis Female', 'Mal', 'Cis Male', 'cis-female/femme', 'A little about you', 'Guy (-ish) ^_^', 'Man', 'Nah', 'male', 'Femake', 'Mail', 'woman', 'Cis Man', 'Woman', 'Trans woman', 'Enby', 'Male ', 'Malr', 'Female', 'M', 'Trans-female', 'msle', 'Male-ish', 'Androgyne', 'Male (CIS)', 'non-binary', 'maile', 'male leaning androgynous', 'female', 'Make', 'femail', 'F', 'Female (trans)', 'something kinda male?', 'Female ', 'queer/she/they', 'All', 'fluid', 'ostensibly male, unsure what that really means', 'Male', 'f', 'Genderqueer', 'Female (cis)', 'm', 'Neuter', 'queer', 'cis male', 'Agender', 'p'}\n"
     ]
    }
   ],
   "source": [
    "# Learn more about the variable Gender, which appears not to be standardized with 49 distinct responses.\n",
    "\n",
    "# Count the number of distinct responses and list them:\n",
    "print(\"Count of distinct responses for Gender:\", len(set(mh['Gender'])))\n",
    "print(\"Distinct responses for Gender:\", set(mh['Gender']))"
   ]
  },
  {
   "cell_type": "markdown",
   "metadata": {
    "_cell_guid": "091757f1-8a59-4cdf-a6d0-89c478ea1246",
    "_uuid": "75f8057a72671892f1feabfaa34b7981425401b4"
   },
   "source": [
    "#### Further observations on this data set\n",
    "\n",
    "- Variables to transform prior to analysis:\n",
    " - Standardize all column headers to lower case (to prevent typos!)\n",
    "  - <strong>Timestamp</strong>: convert to datetime\n",
    " - <strong>Age</strong>: remove outliers\n",
    " - <strong>Gender</strong>: group into standardized categories \n",
    "\n",
    "#### Questions that have come up: \n",
    "\n",
    "- It will be important to decide how to handle NaN values.\n",
    "- It would be helpful to understand the author's data collection methods and the extent to which they introduced bias. Without that information I will continue to assume that the results are not generalizable to the entire tech industry. All findings from this data set will be assumed to describe this sample, only.\n",
    "- How does the employer's attitude toward mental health issues relate to employees' behavior, such as seeking treatment? "
   ]
  },
  {
   "cell_type": "markdown",
   "metadata": {
    "_cell_guid": "aba98060-ff79-406b-a647-a8ddd6edd103",
    "_uuid": "66a131e7e2c6d02635d90af1a7860a8e069e2081"
   },
   "source": [
    "<a id=\"step4\"></a> \n",
    "### Step 4: Clean up the data as identified in Step 3\n",
    "\n",
    "- Step 4A: Standardize all column headers to lower case (to prevent typos!)\n",
    "- Step 4B: <strong>Timestamp</strong>: convert to datetime\n",
    "- Step 4C: <strong>Age</strong>: remove outliers\n",
    "- Step 4D: <strong>Gender</strong>: group into standardized categories \n",
    "- Step 4E: Decide how to handle NaN data in the categorical columns.\n",
    "\n",
    "\n",
    "####  4A: Standardize all column headers to lower case "
   ]
  },
  {
   "cell_type": "code",
   "execution_count": 8,
   "metadata": {
    "_cell_guid": "0229f0d5-4eac-46a8-b1ff-647591a2484c",
    "_uuid": "984c7ecac94372f69ff32da1010f509ec6c7367a"
   },
   "outputs": [
    {
     "data": {
      "text/plain": [
       "timestamp                    object\n",
       "age                           int64\n",
       "gender                       object\n",
       "country                      object\n",
       "state                        object\n",
       "self_employed                object\n",
       "family_history               object\n",
       "treatment                    object\n",
       "work_interfere               object\n",
       "no_employees                 object\n",
       "remote_work                  object\n",
       "tech_company                 object\n",
       "benefits                     object\n",
       "care_options                 object\n",
       "wellness_program             object\n",
       "seek_help                    object\n",
       "anonymity                    object\n",
       "leave                        object\n",
       "mental_health_consequence    object\n",
       "phys_health_consequence      object\n",
       "coworkers                    object\n",
       "supervisor                   object\n",
       "mental_health_interview      object\n",
       "phys_health_interview        object\n",
       "mental_vs_physical           object\n",
       "obs_consequence              object\n",
       "comments                     object\n",
       "dtype: object"
      ]
     },
     "execution_count": 8,
     "metadata": {},
     "output_type": "execute_result"
    }
   ],
   "source": [
    "mh.columns = map(str.lower, mh.columns)\n",
    "\n",
    "# Confirm that all variable names are now lower case\n",
    "mh.dtypes"
   ]
  },
  {
   "cell_type": "markdown",
   "metadata": {
    "_cell_guid": "99df77ab-3e99-4499-878d-61e663de7ea5",
    "_uuid": "5e00748653fdb8906fa9dd3d80b24e96aefbe854"
   },
   "source": [
    "#### 4B: Convert \"timestamp\" to datetime"
   ]
  },
  {
   "cell_type": "code",
   "execution_count": 9,
   "metadata": {
    "_cell_guid": "6d99e3db-9918-4b25-a9cf-31d0dc2b7f09",
    "_uuid": "eeae1c609a9507228ddd703f1b1dea25ac8064ff",
    "scrolled": true
   },
   "outputs": [
    {
     "data": {
      "text/plain": [
       "timestamp                    datetime64[ns]\n",
       "age                                   int64\n",
       "gender                               object\n",
       "country                              object\n",
       "state                                object\n",
       "self_employed                        object\n",
       "family_history                       object\n",
       "treatment                            object\n",
       "work_interfere                       object\n",
       "no_employees                         object\n",
       "remote_work                          object\n",
       "tech_company                         object\n",
       "benefits                             object\n",
       "care_options                         object\n",
       "wellness_program                     object\n",
       "seek_help                            object\n",
       "anonymity                            object\n",
       "leave                                object\n",
       "mental_health_consequence            object\n",
       "phys_health_consequence              object\n",
       "coworkers                            object\n",
       "supervisor                           object\n",
       "mental_health_interview              object\n",
       "phys_health_interview                object\n",
       "mental_vs_physical                   object\n",
       "obs_consequence                      object\n",
       "comments                             object\n",
       "dtype: object"
      ]
     },
     "execution_count": 9,
     "metadata": {},
     "output_type": "execute_result"
    }
   ],
   "source": [
    "# Convert \"timestamp\" data type from object to datetime\n",
    "mh['timestamp'] = pd.to_datetime(mh['timestamp'])\n",
    "\n",
    "# Confirm that it worked\n",
    "mh.dtypes"
   ]
  },
  {
   "cell_type": "markdown",
   "metadata": {
    "_cell_guid": "0d28fd88-b287-4bbb-96eb-4d039c8bd946",
    "_uuid": "c065a63052f6ed981ffaa11e097ea89394d2ffab"
   },
   "source": [
    "#### 4C: Remove Age outliers\n",
    "\n",
    "For the purpose of this analysis, I will simply replace any out-of-range age values with \"NaN\", rather than delete the rows from the data set.  In a more detailed analysis it could be worth looking more closely at the rows with out-of-range ages and deciding whether it makes more sense to remove them. \n",
    "\n",
    "I adapted the process from Kaggler shivamnijhawan96: https://www.kaggle.com/shivamnijhawan96/mental-health-survey-exploration/. (Thanks!)"
   ]
  },
  {
   "cell_type": "code",
   "execution_count": 10,
   "metadata": {
    "_cell_guid": "b09ef7e5-6687-457f-a05c-e2e5094e9977",
    "_uuid": "deea27ed1214745c55a4952a5b0661d3b66aa265",
    "scrolled": true
   },
   "outputs": [
    {
     "name": "stdout",
     "output_type": "stream",
     "text": [
      "'Age'\n",
      "Minimum value:  5.0\n",
      "Maximum value:  72.0\n",
      "How many values are NaN?:  5\n",
      "Frequency table for age_clean:\n"
     ]
    },
    {
     "data": {
      "text/plain": [
       "5.0      1\n",
       "8.0      1\n",
       "11.0     1\n",
       "18.0     7\n",
       "19.0     9\n",
       "20.0     6\n",
       "21.0    16\n",
       "22.0    21\n",
       "23.0    51\n",
       "24.0    46\n",
       "25.0    61\n",
       "26.0    75\n",
       "27.0    71\n",
       "28.0    68\n",
       "29.0    85\n",
       "30.0    63\n",
       "31.0    67\n",
       "32.0    82\n",
       "33.0    70\n",
       "34.0    65\n",
       "35.0    55\n",
       "36.0    37\n",
       "37.0    43\n",
       "38.0    39\n",
       "39.0    33\n",
       "40.0    33\n",
       "41.0    21\n",
       "42.0    20\n",
       "43.0    28\n",
       "44.0    11\n",
       "45.0    12\n",
       "46.0    12\n",
       "47.0     2\n",
       "48.0     6\n",
       "49.0     4\n",
       "50.0     6\n",
       "51.0     5\n",
       "53.0     1\n",
       "54.0     3\n",
       "55.0     3\n",
       "56.0     4\n",
       "57.0     3\n",
       "58.0     1\n",
       "60.0     2\n",
       "61.0     1\n",
       "62.0     1\n",
       "65.0     1\n",
       "72.0     1\n",
       "Name: age_clean, dtype: int64"
      ]
     },
     "execution_count": 10,
     "metadata": {},
     "output_type": "execute_result"
    }
   ],
   "source": [
    "# Create a new column \"age_clean\" that replaces out-of-range ages with \"NaN\"\n",
    "# The oldest living person on record lived to be 122 years, 164 days (Jeanne Calment, 1875-1997)\n",
    "def clean_age(age):\n",
    "    if age>=0 and age<=123:\n",
    "        return age\n",
    "    else:\n",
    "        return np.nan\n",
    "mh['age_clean'] = mh['age'].apply(clean_age)\n",
    "\n",
    "# Check out the new column and make sure it looks right\n",
    "\n",
    "print(\"'Age'\")\n",
    "print(\"Minimum value: \", mh[\"age_clean\"].min())\n",
    "print(\"Maximum value: \", mh[\"age_clean\"].max())\n",
    "print(\"How many values are NaN?: \", pd.isnull(mh['age_clean']).sum())\n",
    "print(\"Frequency table for age_clean:\")\n",
    "mh[\"age_clean\"].value_counts().sort_index(0)"
   ]
  },
  {
   "cell_type": "markdown",
   "metadata": {
    "_cell_guid": "bc3355ad-ee17-4998-a39c-eb44e0a10212",
    "_uuid": "afad35eadfc46f289a34e827a7c329ffbc881404"
   },
   "source": [
    "#### View the age distribution of the sample\n",
    "\n"
   ]
  },
  {
   "cell_type": "code",
   "execution_count": 11,
   "metadata": {
    "_cell_guid": "00f89c92-45a4-481f-81f5-e9b495d70f09",
    "_uuid": "29a04e6dc5b8628d1c722f4d945e9acd064f20d8"
   },
   "outputs": [
    {
     "data": {
      "image/png": "[encoded data removed]",
      "text/plain": [
       "<Figure size 432x288 with 1 Axes>"
      ]
     },
     "metadata": {},
     "output_type": "display_data"
    }
   ],
   "source": [
    "# Plot a histogram of the respondents' ages (remove any NaN values)\n",
    "\n",
    "sns.set(color_codes=True)\n",
    "sns.set_palette(sns.color_palette(\"muted\"))\n",
    "\n",
    "sns.distplot(mh[\"age_clean\"].dropna());"
   ]
  },
  {
   "cell_type": "markdown",
   "metadata": {
    "_cell_guid": "def36876-ccba-42cc-a151-52346e831196",
    "_uuid": "10f0eb59685a4ca189833bbffb53ff7e0b3b1263"
   },
   "source": [
    "#### Observations\n",
    "- Peak between mid-20s to about mid-40s.  \n",
    "\n",
    "#### Questions that come up:\n",
    "- How does <strong>age</strong> relate to various behaviors and/or their awareness of their employer's attitude toward mental health?"
   ]
  },
  {
   "cell_type": "markdown",
   "metadata": {
    "_cell_guid": "88cf8b77-86e5-4234-9e2f-a807dfd43668",
    "_uuid": "1934cdc20c051802b8cb74eea3b52915e93dd810"
   },
   "source": [
    "#### 4D: Standardize gender into categories\n",
    "\n",
    "I have decided to consolidate the gender variable into the following categories, given the nature and quantities of the open-ended responses.\n",
    "\n",
    "- Male (cis)\n",
    "- Male (trans)\n",
    "- Female (cis)\n",
    "- Female (trans)\n",
    "- Other\n",
    "\n",
    "Once again, I adapted the process used by Kaggler shivamnijhawan96: https://www.kaggle.com/shivamnijhawan96/mental-health-survey-exploration. (Thanks!)\n",
    "\n",
    "##### Suggestion for the future:\n",
    "Future surveys might consider restructuring the sex/gender questions to reduce the frequency of \"other\" while remaining transgender-inclusive. One potential method is described in this study from May 2017: https://www.ncbi.nlm.nih.gov/pmc/articles/PMC5444783/)"
   ]
  },
  {
   "cell_type": "code",
   "execution_count": 12,
   "metadata": {
    "_cell_guid": "6066975f-ed70-41cf-887f-877e362a9560",
    "_uuid": "6e554909b44f99cd1bb65376421891d5ea13802c"
   },
   "outputs": [
    {
     "name": "stdout",
     "output_type": "stream",
     "text": [
      "Gender:\n",
      "How many values are NaN?:  0\n",
      "\n",
      "Frequency table for gender_new:\n",
      " Female (Cis)      247\n",
      "Female (Trans)      4\n",
      "Male (Cis)        991\n",
      "Other              15\n",
      "Name: gender_new, dtype: int64\n",
      "\n",
      "If we didn't miss any entries, these numbers will be the same:\n",
      "gender = 1257 values\n",
      "gender_new = 1257 values\n",
      "Dataset Entries = 1257 values\n"
     ]
    }
   ],
   "source": [
    "# Recategorize each response into these categories: Male (cis), Male (trans), Female (cis), Female (trans), Other\n",
    "\n",
    "# Standardize the capitalization in the responses by making all characters lower case\n",
    "mh['gender'] = mh['gender'].str.lower()\n",
    "\n",
    "# Make a copy of the column to preserve the original data. I will work with the new column going forward.\n",
    "mh['gender_new'] = mh['gender']\n",
    "\n",
    "# Assign each type of response to one of the five categories\n",
    "\n",
    "male = [\"male\", \"m\", \"male-ish\", \"maile\", \"mal\", \"male (cis)\", \"make\", \"male \", \"man\", \"msle\", \"mail\", \"malr\",\"cis man\", \"cis male\"]\n",
    "trans_male = [None]\n",
    "trans_female = [\"trans-female\",  \"trans woman\", \"female (trans)\"]\n",
    "female = [\"cis female\", \"f\", \"female\", \"woman\",  \"femake\", \"female \",\"cis-female/femme\", \"female (cis)\", \"femail\"]\n",
    "other = [\"non-binary\", \"nah\", \"all\", \"enby\", \"fluid\", \"genderqueer\", \"androgyne\", \"agender\", \"male leaning androgynous\", \"guy (-ish) ^_^\", \"neuter\", \"queer\", \"ostensibly male, unsure what that really means\", \"queer/she/they\", \"something kinda male?\"]\n",
    "\n",
    "mh['gender_new'] = mh['gender_new'].apply(lambda x:\"Male (Cis)\" if x in male else x)\n",
    "mh['gender_new'] = mh['gender_new'].apply(lambda x:\"Female (Cis)\" if x in female else x)\n",
    "mh['gender_new'] = mh['gender_new'].apply(lambda x:\"Female (Trans)\" if x in trans_female else x)\n",
    "mh['gender_new'] = mh['gender_new'].apply(lambda x:\"Male (Trans)\" if x in trans_male else x)\n",
    "mh['gender_new'] = mh['gender_new'].apply(lambda x:\"Other\" if x in other else x)\n",
    "mh.drop(mh[mh.gender_new == 'p'].index, inplace=True)\n",
    "mh.drop(mh[mh.gender_new == 'a little about you'].index, inplace=True)\n",
    "\n",
    "# Make a crosstab to view the count for each of the new categories\n",
    "print(\"Gender:\")\n",
    "print(\"How many values are NaN?: \", pd.isnull(mh['gender_new']).sum())\n",
    "print(\"\")\n",
    "print(\"Frequency table for gender_new:\\n\", mh[\"gender_new\"].value_counts().sort_index(0))\n",
    "print(\"\")\n",
    "\n",
    "# Confirm that no entries were missed in the sorting above: display the size of the old and new variables, and of the entire dataset\n",
    "print(\"If we didn't miss any entries, these numbers will be the same:\")\n",
    "print(\"gender =\", len(mh['gender']), \"values\")\n",
    "print(\"gender_new =\", len(mh['gender_new']), \"values\")\n",
    "print(\"Dataset Entries =\", len(mh), \"values\")"
   ]
  },
  {
   "cell_type": "markdown",
   "metadata": {
    "_cell_guid": "a45eb2cb-952f-485a-9717-4bcabf8bb8c1",
    "_uuid": "b208ba0755882246d535fc59bde6e10f9da8d0db"
   },
   "source": [
    "#### View the gender distribution of the sample"
   ]
  },
  {
   "cell_type": "code",
   "execution_count": 13,
   "metadata": {
    "_cell_guid": "03b36eeb-5de7-4254-9378-5d8801e086c8",
    "_uuid": "152b9cb4e1bfb72f569249971dd15268de7e075f"
   },
   "outputs": [
    {
     "data": {
      "text/plain": [
       "<AxesSubplot:>"
      ]
     },
     "execution_count": 13,
     "metadata": {},
     "output_type": "execute_result"
    },
    {
     "data": {
      "image/png": "[encoded data removed]",
      "text/plain": [
       "<Figure size 432x288 with 1 Axes>"
      ]
     },
     "metadata": {},
     "output_type": "display_data"
    }
   ],
   "source": [
    "# Create a bar chart comparing gender\n",
    "\n",
    "mh['gender_new'].value_counts().plot(kind='bar')"
   ]
  },
  {
   "cell_type": "markdown",
   "metadata": {
    "_cell_guid": "41e9f51b-525c-4fde-a134-18102b51d858",
    "_uuid": "045d0053fa2167d50553d877b0cfc1a6757bf767"
   },
   "source": [
    "#### Observations\n",
    "- The large majority are Male (Cis). This isn't a surprise since it's focused on the tech industry.\n",
    "- There are no Male (Trans) entries, which I do find a little surprising. \n",
    "- Almost certainly, at least some of the respondents that I grouped into \"Other\" would have chosen one of the other four options if they'd been given the option to self-sort. So this is an imperfect solution, but I still consider it a reasonable one given what we have available to us.\n",
    "\n",
    "#### Questions that come up:\n",
    "- How does <strong>gender</strong> relate to various behaviors and/or their awareness of their employer's attitude toward mental health?\n",
    "\n",
    "#### 4E: Decide how to handle NaN data in the categorical columns\n",
    "- There are three variables with many missing values. None of them points to a need to \"fill in\" the missing responses or delete the rows. More detail:\n",
    " - <strong>state</strong>:  the missing values are likely to occur in the instances where the country is not \"United States\". This can be confirmed below.\n",
    " - <strong>work_intefere</strong>:  the missing values indicate that the respondent skipped the question because it does not apply to them, which is important information. We can infer that missing responses means the respondent is not experiencing a mental illness at the moment. \n",
    " - <strong>comments</strong>:  this missing values indicate that the respondent didn't leave a comment, which was optional.\n",
    " \n",
    "##### Questions that come up:\n",
    "- How many values for <strong>state</strong> are blank when the <strong>country</strong> is \"United States\"? In other words, when <strong>state</strong> shouldn't be blank?\n",
    "\n",
    "<a id=\"step5\"></a>\n",
    "### Step 5: Identify patterns in the data\n",
    "\n",
    "#### 5A: treatment v. work_interfere\n",
    "\n",
    "##### Questions that come up: \n",
    "- Is it possible to run an accurate correlation calculation with two categorical variables? Below I run it three ways."
   ]
  },
  {
   "cell_type": "code",
   "execution_count": 14,
   "metadata": {
    "_cell_guid": "18b869e6-9c95-46b5-bca1-30e6af9d0b9b",
    "_uuid": "3e541cc26d15d5f3a76d631d2ff7f2323d2506c1"
   },
   "outputs": [
    {
     "name": "stdout",
     "output_type": "stream",
     "text": [
      "Pearson:                 treatment  work_interfere\n",
      "treatment        1.000000        0.615657\n",
      "work_interfere   0.615657        1.000000\n",
      "\n",
      "Spearman:                 treatment  work_interfere\n",
      "treatment        1.000000        0.598444\n",
      "work_interfere   0.598444        1.000000\n",
      "\n",
      "Kendall:                 treatment  work_interfere\n",
      "treatment        1.000000        0.541358\n",
      "work_interfere   0.541358        1.000000\n"
     ]
    }
   ],
   "source": [
    "# Create a new dataframe with the two columns and assign numbers in place of their categories\n",
    "\n",
    "df = pd.DataFrame({'treatment': mh['treatment'], 'work_interfere': mh['work_interfere']}, dtype='category')\n",
    "df_num = df.apply(lambda x: x.cat.codes)\n",
    "\n",
    "# Run a correlation calculation \n",
    "print(\"Pearson:\", df_num.corr())\n",
    "print(\"\")\n",
    "print(\"Spearman:\", df_num.corr('spearman'))\n",
    "print(\"\")\n",
    "print(\"Kendall:\", df_num.corr('kendall'))"
   ]
  },
  {
   "cell_type": "markdown",
   "metadata": {
    "_cell_guid": "46323ae3-2ffb-4270-bf4d-7348a8fbcd7f",
    "_uuid": "29ed88e1c70ad9b8574285ba7b47b65e88fc8d68"
   },
   "source": [
    "#### 5B:  Chart: mental health benefits v. seeking treatment\n",
    "\n",
    "Whether an employee is seeking treatment for a mental health condition appears to be correlated with their knowledge of their employer's mental health benefits.\n",
    "\n",
    "##### Questions that come up:\n",
    "- How to determine if this is a statistically significant correlation? "
   ]
  },
  {
   "cell_type": "code",
   "execution_count": 15,
   "metadata": {
    "_cell_guid": "1f0f6862-a4f9-4893-9f42-3615bf4c4438",
    "_uuid": "7ca81ba4b4ffd5202f9b07d6d3cb7bc87efc8241"
   },
   "outputs": [
    {
     "data": {
      "image/png": "[encoded data removed]",
      "text/plain": [
       "<Figure size 720x504 with 1 Axes>"
      ]
     },
     "metadata": {},
     "output_type": "display_data"
    }
   ],
   "source": [
    "plt.figure(figsize=(10,7))\n",
    "sns.countplot(x=\"benefits\", hue=\"treatment\", hue_order = [\"Yes\", \"No\"], data=mh)\n",
    "plt.title(\"Does your employer provide mental health benefits?\",fontsize=16)\n",
    "plt.suptitle(\"Seeking Treatment v. Work Benefits\", fontsize=20)\n",
    "plt.xlabel(\"\")\n",
    "plt.show()"
   ]
  },
  {
   "cell_type": "code",
   "execution_count": 16,
   "metadata": {
    "_cell_guid": "11457a05-74c8-48a5-8e03-3a41c78e0b85",
    "_uuid": "6d7fc1ca91a2981d65ed6e20644fe831dc81d5fc"
   },
   "outputs": [
    {
     "data": {
      "image/png": "[encoded data removed]",
      "text/plain": [
       "<Figure size 720x504 with 1 Axes>"
      ]
     },
     "metadata": {},
     "output_type": "display_data"
    }
   ],
   "source": [
    " # Generate a chart comparing mental health benefits and treatment\n",
    "    \n",
    "plt.figure(figsize=(10,7))\n",
    "sns.countplot(x=\"treatment\", hue=\"benefits\", hue_order = [\"Yes\", \"No\", \"Don't know\"], data=mh)\n",
    "plt.suptitle(\"Seeking Treatment v. Work Benefits  (Inverted)\", fontsize=20)\n",
    "plt.title(\"Have you sought treatment for a mental health condition?\",fontsize=16)\n",
    "plt.xlabel(\"\")\n",
    "plt.ylabel(\"\")\n",
    "plt.show()"
   ]
  },
  {
   "cell_type": "markdown",
   "metadata": {
    "_cell_guid": "069f4df2-a323-40a8-9407-9f4dfe1225cf",
    "_uuid": "fa616aa9c6cd281e74ebe7749b445a9f503121cf"
   },
   "source": [
    "#### 5C:  Chart: family history v. seeking treatment\n",
    "\n",
    "There appears to be a pretty clear correlation between these two variables, too."
   ]
  },
  {
   "cell_type": "code",
   "execution_count": 17,
   "metadata": {
    "_cell_guid": "943d53f0-35f4-4aa2-aa57-e2d0ab22a022",
    "_uuid": "b4d9ba8677e6151502d9903fc6c46de230dfd794"
   },
   "outputs": [
    {
     "data": {
      "image/png": "[encoded data removed]",
      "text/plain": [
       "<Figure size 720x504 with 1 Axes>"
      ]
     },
     "metadata": {},
     "output_type": "display_data"
    }
   ],
   "source": [
    "plt.figure(figsize=(10,7))\n",
    "sns.countplot(x=\"family_history\", hue=\"treatment\", hue_order = [\"Yes\", \"No\"], data=mh)\n",
    "plt.suptitle(\"Family History v. Seeking Treatment\", fontsize=20)\n",
    "plt.title(\"Do you have a family history of mental illness?\", fontsize=16)\n",
    "plt.xlabel(\"\")\n",
    "plt.ylabel(\"\")\n",
    "plt.show()"
   ]
  },
  {
   "cell_type": "markdown",
   "metadata": {
    "_cell_guid": "aa5f4629-f9d6-460a-8cf9-837c6c619869",
    "_uuid": "93a29df0919dda75281f78b1df918e675bfc6902"
   },
   "source": [
    "#### 5C.1 Chi-Squared Test of Independence\n",
    "I would like to calculate whether these variables are statistically independent of each other. First, I will try a chi-squared test of independence. (Adapting the process from: http://hamelg.blogspot.com/2015/11/python-for-data-analysis-part-25-chi.html) "
   ]
  },
  {
   "cell_type": "code",
   "execution_count": 18,
   "metadata": {
    "_cell_guid": "91424c1c-e403-41a7-a07e-d3ac053539fc",
    "_uuid": "6cd3cf8c479a77decde4169d8d3395ac0533db46",
    "scrolled": true
   },
   "outputs": [
    {
     "data": {
      "text/html": [
       "<div>\n",
       "<style scoped>\n",
       "    .dataframe tbody tr th:only-of-type {\n",
       "        vertical-align: middle;\n",
       "    }\n",
       "\n",
       "    .dataframe tbody tr th {\n",
       "        vertical-align: top;\n",
       "    }\n",
       "\n",
       "    .dataframe thead th {\n",
       "        text-align: right;\n",
       "    }\n",
       "</style>\n",
       "<table border=\"1\" class=\"dataframe\">\n",
       "  <thead>\n",
       "    <tr style=\"text-align: right;\">\n",
       "      <th></th>\n",
       "      <th>Treatment Yes</th>\n",
       "      <th>Treatment No</th>\n",
       "      <th>row_totals</th>\n",
       "    </tr>\n",
       "  </thead>\n",
       "  <tbody>\n",
       "    <tr>\n",
       "      <th>Fam Hist Yes</th>\n",
       "      <td>495</td>\n",
       "      <td>272</td>\n",
       "      <td>767</td>\n",
       "    </tr>\n",
       "    <tr>\n",
       "      <th>Fam Hist No</th>\n",
       "      <td>127</td>\n",
       "      <td>363</td>\n",
       "      <td>490</td>\n",
       "    </tr>\n",
       "    <tr>\n",
       "      <th>col_totals</th>\n",
       "      <td>622</td>\n",
       "      <td>635</td>\n",
       "      <td>1257</td>\n",
       "    </tr>\n",
       "  </tbody>\n",
       "</table>\n",
       "</div>"
      ],
      "text/plain": [
       "              Treatment Yes  Treatment No  row_totals\n",
       "Fam Hist Yes            495           272         767\n",
       "Fam Hist No             127           363         490\n",
       "col_totals              622           635        1257"
      ]
     },
     "execution_count": 18,
     "metadata": {},
     "output_type": "execute_result"
    }
   ],
   "source": [
    "# Generate crosstabs of \"family history\" and \"treatment\" (the \"observed\" values)\n",
    "\n",
    "import scipy.stats as stats\n",
    "\n",
    "tab_famhist_treatment = pd.crosstab(mh[\"family_history\"], mh[\"treatment\"], margins = True)\n",
    "tab_famhist_treatment.columns = [\"Treatment Yes\",\"Treatment No\",\"row_totals\"]\n",
    "tab_famhist_treatment.index = [\"Fam Hist Yes\",\"Fam Hist No\",\"col_totals\"]\n",
    "\n",
    "observed = tab_famhist_treatment.iloc[0:2,0:2]   # Get table without totals for later use\n",
    "\n",
    "tab_famhist_treatment"
   ]
  },
  {
   "cell_type": "code",
   "execution_count": 19,
   "metadata": {
    "_cell_guid": "c3771022-e19f-4b8d-a658-ab2f0ade89ec",
    "_uuid": "414178eada039bd0e599a9f5aa8df827f9e939eb"
   },
   "outputs": [
    {
     "data": {
      "text/html": [
       "<div>\n",
       "<style scoped>\n",
       "    .dataframe tbody tr th:only-of-type {\n",
       "        vertical-align: middle;\n",
       "    }\n",
       "\n",
       "    .dataframe tbody tr th {\n",
       "        vertical-align: top;\n",
       "    }\n",
       "\n",
       "    .dataframe thead th {\n",
       "        text-align: right;\n",
       "    }\n",
       "</style>\n",
       "<table border=\"1\" class=\"dataframe\">\n",
       "  <thead>\n",
       "    <tr style=\"text-align: right;\">\n",
       "      <th></th>\n",
       "      <th>Treatment Yes</th>\n",
       "      <th>Treatment No</th>\n",
       "    </tr>\n",
       "  </thead>\n",
       "  <tbody>\n",
       "    <tr>\n",
       "      <th>Fam Hist Yes</th>\n",
       "      <td>379.533811</td>\n",
       "      <td>387.466189</td>\n",
       "    </tr>\n",
       "    <tr>\n",
       "      <th>Fam Hist No</th>\n",
       "      <td>242.466189</td>\n",
       "      <td>247.533811</td>\n",
       "    </tr>\n",
       "  </tbody>\n",
       "</table>\n",
       "</div>"
      ],
      "text/plain": [
       "              Treatment Yes  Treatment No\n",
       "Fam Hist Yes     379.533811    387.466189\n",
       "Fam Hist No      242.466189    247.533811"
      ]
     },
     "execution_count": 19,
     "metadata": {},
     "output_type": "execute_result"
    }
   ],
   "source": [
    "# Generate the \"expected\" values to compare against our \"observed\" values\n",
    "\n",
    "expected =  np.outer(tab_famhist_treatment[\"row_totals\"][0:2],\n",
    "                     tab_famhist_treatment.loc[\"col_totals\"][0:2]) / 1257\n",
    "\n",
    "expected = pd.DataFrame(expected)\n",
    "\n",
    "expected.columns = [\"Treatment Yes\",\"Treatment No\"]\n",
    "expected.index = [\"Fam Hist Yes\",\"Fam Hist No\"]\n",
    "\n",
    "expected"
   ]
  },
  {
   "cell_type": "code",
   "execution_count": 20,
   "metadata": {
    "_cell_guid": "82fde8ff-2f05-45a9-90f8-09362860211d",
    "_uuid": "34252998294f2c04acd1e33af1a5079469aa727f"
   },
   "outputs": [
    {
     "name": "stdout",
     "output_type": "stream",
     "text": [
      "178.38566252465614\n"
     ]
    }
   ],
   "source": [
    "# Run the Chi-Squared test\n",
    "\n",
    "chi_squared_stat = (((observed-expected)**2)/expected).sum().sum()\n",
    "print(chi_squared_stat)\n",
    "\n",
    "# Note: We call .sum() twice: once to get the column sums and a second time to \n",
    "# add the column sums together, returning the sum of the entire 2D table."
   ]
  },
  {
   "cell_type": "code",
   "execution_count": 21,
   "metadata": {
    "_cell_guid": "76999191-3674-46c7-b027-7b67663a8493",
    "_uuid": "524c2df92775f775827179754954e8798b93d072"
   },
   "outputs": [
    {
     "name": "stdout",
     "output_type": "stream",
     "text": [
      "Critical value\n",
      "3.841458820694124\n",
      "P value\n",
      "0.0\n"
     ]
    }
   ],
   "source": [
    "crit = stats.chi2.ppf(q = 0.95, # Find the critical value for 95% confidence*\n",
    "                      df = 1)   # *\n",
    "\n",
    "# *Note: The degrees of freedom for a test of independence equals the product of \n",
    "# the number of categories in each variable minus 1. In this case we have a 2x2 table \n",
    "# so df = 1x1 = 1.\n",
    "\n",
    "print(\"Critical value\")\n",
    "print(crit)\n",
    "\n",
    "p_value = 1 - stats.chi2.cdf(x=chi_squared_stat,  # Find the p-value\n",
    "                             df=1)\n",
    "print(\"P value\")\n",
    "print(p_value)"
   ]
  },
  {
   "cell_type": "markdown",
   "metadata": {
    "_cell_guid": "56ae8096-533f-43a7-b337-5b5e4d5d195a",
    "_uuid": "071bfc50fbf30317fe677f8b56b3199426c79447"
   },
   "source": [
    "##### Observation: \n",
    "A P value of 0.0 does not seem right. I will go back to further investigate whether the chi-squared is appropriate and if I made mistakes in the code above."
   ]
  },
  {
   "cell_type": "markdown",
   "metadata": {
    "_cell_guid": "f2d9d3d5-7bad-4ffc-84c8-147c99d95dcb",
    "_uuid": "531653c8483bd24e1e4766ee76a0de1cc17e3a45"
   },
   "source": [
    "<a id=\"step6\"></a>\n",
    "### Step 6: Answer Kaggle's questions about the data"
   ]
  },
  {
   "cell_type": "markdown",
   "metadata": {
    "_cell_guid": "a6fe0c20-3bb1-4613-b712-26f2b967b12c",
    "_uuid": "8c61f08e7c32c55336629e21514c99191dd59b8c"
   },
   "source": [
    "#### 6A: How does the frequency of mental health illness vary by geographic location?\n",
    "\n",
    "I will explore the <strong>state</strong> data and its relationship to the frequency of mental health illness. A response to <strong>work_interfere</strong> will be inferred to mean that the respondent experienced a mental health condition at the time of their response. From a non-response I will infer the non-existence of a mental health condition.\n",
    "\n",
    "I will group the states into four regions according to the <a href=\"https://commons.wikimedia.org/w/index.php?curid=10687031\" target=\"_blank\">US Census Bureau</a> to make it a more manageable comparison. "
   ]
  },
  {
   "cell_type": "code",
   "execution_count": 22,
   "metadata": {
    "_cell_guid": "7de43074-7912-4e2f-96f5-260ef562bc33",
    "_uuid": "bf2bb147c0e1df59a259a45d0633dbca4ced0e82"
   },
   "outputs": [
    {
     "name": "stdout",
     "output_type": "stream",
     "text": [
      "Country Count = 47\n",
      "Country Names = {'Australia', 'Nigeria', 'United States', 'Bulgaria', 'Uruguay', 'Denmark', 'Portugal', 'Poland', 'Costa Rica', 'Czech Republic', 'South Africa', 'China', 'Switzerland', 'Norway', 'Philippines', 'United Kingdom', 'Japan', 'Croatia', 'Mexico', 'India', 'Romania', 'Canada', 'Finland', 'Georgia', 'Spain', 'Hungary', 'Singapore', 'Netherlands', 'Greece', 'Zimbabwe', 'Latvia', 'Germany', 'New Zealand', 'Italy', 'Thailand', 'Ireland', 'Moldova', 'Brazil', 'Russia', 'Sweden', 'Austria', 'France', 'Colombia', 'Belgium', 'Bosnia and Herzegovina', 'Slovenia', 'Israel'}\n"
     ]
    }
   ],
   "source": [
    "# Display the distinct countries represented in the data (quantity and names)\n",
    "\n",
    "print(\"Country Count =\", len(set(mh['country'])))\n",
    "print(\"Country Names =\", set(mh['country']))"
   ]
  },
  {
   "cell_type": "code",
   "execution_count": 23,
   "metadata": {
    "_cell_guid": "207e8ad4-bdd7-41ca-90c2-4d03c5c91b22",
    "_uuid": "75e13e3805e7e77324c8f3e0c7b8f64dfb6a1f91"
   },
   "outputs": [
    {
     "name": "stdout",
     "output_type": "stream",
     "text": [
      "State Count = 46\n",
      "State Names = {nan, 'SC', 'IN', 'TX', 'IA', 'DC', 'TN', 'UT', 'WV', 'MO', 'VT', 'NM', 'WY', 'VA', 'MN', 'CT', 'KY', 'RI', 'KS', 'OK', 'WA', 'LA', 'NE', 'ME', 'NV', 'MI', 'NC', 'MA', 'OR', 'NH', 'SD', 'ID', 'FL', 'IL', 'AZ', 'MD', 'WI', 'NJ', 'GA', 'CA', 'AL', 'PA', 'MS', 'OH', 'CO', 'NY'}\n",
      "count     742\n",
      "unique     45\n",
      "top        CA\n",
      "freq      138\n",
      "Name: state, dtype: object\n"
     ]
    }
   ],
   "source": [
    "# Display quantity and names of distinct countries represented in the data (quantity and names)\n",
    "\n",
    "print(\"State Count =\", len(set(mh['state'])))\n",
    "print(\"State Names =\", set(mh['state']))\n",
    "print(mh['state'].describe())"
   ]
  },
  {
   "cell_type": "code",
   "execution_count": 24,
   "metadata": {
    "_cell_guid": "8594f72f-bd4d-4f7e-ac5e-be6498980fe7",
    "_uuid": "60d200c3a99598761500ecd6321df9c1e6012abd"
   },
   "outputs": [
    {
     "data": {
      "image/png": "[encoded data removed]",
      "text/plain": [
       "<Figure size 720x504 with 1 Axes>"
      ]
     },
     "metadata": {},
     "output_type": "display_data"
    }
   ],
   "source": [
    "# Create a frequency chart for \"country\"\n",
    "\n",
    "plt.figure(figsize=(10, 7))\n",
    "sns.countplot(y='country', order = mh['country'].value_counts().index, data=mh)\n",
    "plt.title('Survey Responses by Country', fontsize=20)\n",
    "plt.xlabel('')\n",
    "plt.ylabel('')\n",
    "plt.show()"
   ]
  },
  {
   "cell_type": "code",
   "execution_count": 25,
   "metadata": {
    "_cell_guid": "b3b8a149-388b-4312-9778-3ea7f53a99b2",
    "_uuid": "42db61ccae9d775a65f329002f9e8c833d219e95"
   },
   "outputs": [
    {
     "data": {
      "image/png": "[encoded data removed]",
      "text/plain": [
       "<Figure size 1440x504 with 1 Axes>"
      ]
     },
     "metadata": {},
     "output_type": "display_data"
    }
   ],
   "source": [
    "#### Survey Responses by state\n",
    "\n",
    "total = float(len(mh))\n",
    "plt.figure(figsize=(20, 7))\n",
    "ax = sns.countplot(x='state', order = mh['state'].value_counts().index, data=mh)\n",
    "for p in ax.patches:\n",
    "    height = p.get_height()\n",
    "    ax.text(p.get_x()+p.get_width()/2.,\n",
    "            height + 3,\n",
    "            '{:1.2f}'.format(height/total),\n",
    "            ha=\"center\") \n",
    "plt.title('Responses by State', fontsize=20)\n",
    "plt.xlabel('')\n",
    "plt.ylabel('')\n",
    "plt.show()"
   ]
  },
  {
   "cell_type": "code",
   "execution_count": 26,
   "metadata": {
    "_cell_guid": "db0a5601-1c92-40f0-ae74-3b3fad36646c",
    "_uuid": "3abbe44ab48516769e9788203491b9614e02a0fa"
   },
   "outputs": [
    {
     "name": "stdout",
     "output_type": "stream",
     "text": [
      "col_0      count\n",
      "region          \n",
      "Midwest      164\n",
      "Northeast    124\n",
      "South        182\n",
      "West         272\n",
      "If we didn't miss anything, this will equal 1257: 1257\n"
     ]
    },
    {
     "data": {
      "text/plain": [
       "<AxesSubplot:xlabel='region'>"
      ]
     },
     "execution_count": 26,
     "metadata": {},
     "output_type": "execute_result"
    },
    {
     "data": {
      "image/png": "[encoded data removed]",
      "text/plain": [
       "<Figure size 1440x504 with 1 Axes>"
      ]
     },
     "metadata": {},
     "output_type": "display_data"
    }
   ],
   "source": [
    "# Define how to recategorize each state into one of the US Census Bureau regions: West, Midwest, South, Northeast\n",
    "\n",
    "# Mke a copy of the column to preserve the original data. Work with the new column going forward.\n",
    "mh['region'] = mh['state']\n",
    "\n",
    "# Then, in the new column, assign each type of response to one of the new categories\n",
    "\n",
    "west = [\"WA\", \"OR\", \"CA\", \"NV\", \"ID\", \"MT\", \"WY\", \"UT\", \"AZ\", \"NM\", \"CO\"]\n",
    "midwest = [\"ND\", \"SD\", \"NE\", \"KS\", \"MN\", \"IA\", \"MO\", \"WI\", \"IL\", \"IN\", \"OH\", \"MI\"]\n",
    "northeast = [\"ME\",  \"NH\", \"VT\", \"MA\", \"CT\", \"RI\", \"NY\", \"PA\", \"NJ\"]\n",
    "south = [\"MD\", \"DE\", \"DC\", \"WV\",  \"VA\", \"NC\",\"SC\", \"GA\", \"FL\", \"KY\", \"TN\", \"AL\", \"MS\", \"AR\", \"LA\", \"OK\", \"TX\"]\n",
    "\n",
    "mh['region'] = mh['region'].apply(lambda x:\"West\" if x in west else x)\n",
    "mh['region'] = mh['region'].apply(lambda x:\"Midwest\" if x in midwest else x)\n",
    "mh['region'] = mh['region'].apply(lambda x:\"Northeast\" if x in northeast else x)\n",
    "mh['region'] = mh['region'].apply(lambda x:\"South\" if x in south else x)\n",
    "\n",
    "# Make a crosstab to view the count for each of the new categories\n",
    "region_tab = pd.crosstab(index=mh[\"region\"], columns=\"count\")\n",
    "\n",
    "print(region_tab)\n",
    "\n",
    "# Confirm that we didn't miss any entries\n",
    "print(\"If we didn't miss anything, this will equal 1257:\", len(mh['region']))\n",
    "\n",
    "region_tab.plot(kind=\"bar\", \n",
    "                 figsize=(20,7),\n",
    "                 stacked=True)"
   ]
  },
  {
   "cell_type": "code",
   "execution_count": 27,
   "metadata": {
    "_cell_guid": "5d076bcf-e146-4582-9cf0-2f8d3fd6a258",
    "_uuid": "0be285bb8f8cb7c19703c90facd6c6e15934cb34"
   },
   "outputs": [
    {
     "data": {
      "image/png": "[encoded data removed]",
      "text/plain": [
       "<Figure size 1440x504 with 1 Axes>"
      ]
     },
     "metadata": {},
     "output_type": "display_data"
    }
   ],
   "source": [
    "#### Survey Responses by region\n",
    "\n",
    "total = float(len(mh))\n",
    "plt.figure(figsize=(20, 7))\n",
    "ax = sns.countplot(x='region', order = mh['region'].value_counts().index, data=mh)\n",
    "for p in ax.patches:\n",
    "    height = p.get_height()\n",
    "    ax.text(p.get_x()+p.get_width()/2.,\n",
    "            height + 3,\n",
    "            '{:1.2f}'.format(height/total),\n",
    "            ha=\"center\") \n",
    "plt.title('Responses by Region', fontsize=20)\n",
    "plt.xlabel('')\n",
    "plt.ylabel('')\n",
    "plt.show()"
   ]
  },
  {
   "cell_type": "code",
   "execution_count": 28,
   "metadata": {
    "_cell_guid": "2e38b1f9-bacf-41d9-a3f4-373f78684dbd",
    "_uuid": "48e03e7d69edbecf88cba7ed688011df4d189622"
   },
   "outputs": [
    {
     "data": {
      "image/png": "[encoded data removed]",
      "text/plain": [
       "<Figure size 720x504 with 1 Axes>"
      ]
     },
     "metadata": {},
     "output_type": "display_data"
    }
   ],
   "source": [
    "plt.figure(figsize=(10,7))\n",
    "sns.countplot(x=\"region\", hue=\"work_interfere\", hue_order = [\"Never\", \"Rarely\", \"Sometimes\", \"Often\"], data=mh)\n",
    "plt.suptitle(\"Work Interfere v. Region (U.S.)\", fontsize=20)\n",
    "plt.title(\"Frequency of mental health conditions in the U.S. by region\", fontsize=16)\n",
    "plt.xlabel(\"\")\n",
    "plt.ylabel(\"\")\n",
    "plt.show()"
   ]
  },
  {
   "cell_type": "code",
   "execution_count": 29,
   "metadata": {
    "_cell_guid": "d9902d25-7920-4a59-be11-b0d385a0d2a9",
    "_uuid": "2205033248e87218d73b306fb60b0c5343d1891c"
   },
   "outputs": [
    {
     "data": {
      "text/plain": [
       "0           Often\n",
       "1          Rarely\n",
       "2          Rarely\n",
       "3           Often\n",
       "4           Never\n",
       "          ...    \n",
       "1254          NaN\n",
       "1255        Often\n",
       "1256    Sometimes\n",
       "1257          NaN\n",
       "1258    Sometimes\n",
       "Name: work_interfere, Length: 1257, dtype: object"
      ]
     },
     "execution_count": 29,
     "metadata": {},
     "output_type": "execute_result"
    }
   ],
   "source": [
    "mh['work_interfere']"
   ]
  },
  {
   "cell_type": "code",
   "execution_count": 30,
   "metadata": {
    "_cell_guid": "1196d188-059d-48a1-8761-19e1fb9ff376",
    "_uuid": "567b56f56bf37ad1ea2654a83dd6ec5e884341a9"
   },
   "outputs": [
    {
     "name": "stdout",
     "output_type": "stream",
     "text": [
      "col_0  count\n",
      "ill         \n",
      "No       264\n",
      "Yes      993\n",
      "If we didn't miss anything, this will equal 1257: 1257\n"
     ]
    },
    {
     "data": {
      "text/plain": [
       "<AxesSubplot:xlabel='ill'>"
      ]
     },
     "execution_count": 30,
     "metadata": {},
     "output_type": "execute_result"
    },
    {
     "data": {
      "image/png": "[encoded data removed]",
      "text/plain": [
       "<Figure size 1440x504 with 1 Axes>"
      ]
     },
     "metadata": {},
     "output_type": "display_data"
    }
   ],
   "source": [
    "# Convert the work_interfere responses into a new variable, \n",
    "\n",
    "# Make a copy of the column to preserve the original data. Work with the new column going forward.\n",
    "mh['ill'] = mh['work_interfere']\n",
    "\n",
    "# Transform all NaN to \"No\" (which means, not currently experiencing a mental health condition)\n",
    "mh['ill'] = mh['ill'].replace(np.nan, 'No', regex=True)\n",
    "\n",
    "# Assign each type of response to one of two categories\n",
    "\n",
    "notill = [\"No\"]\n",
    "ill = [\"Never\", \"Rarely\", \"Sometimes\", \"Often\"]\n",
    "\n",
    "mh['ill'] = mh['ill'].apply(lambda x:\"Yes\" if x in ill else x)\n",
    "mh['ill'] = mh['ill'].apply(lambda x:\"No\" if x in notill else x)\n",
    "\n",
    "# Make a crosstab to view the count for each of the new categories\n",
    "ill_tab = pd.crosstab(index=mh[\"ill\"], columns=\"count\")\n",
    "\n",
    "print(ill_tab)\n",
    "\n",
    "# Confirm that we didn't miss any entries\n",
    "print(\"If we didn't miss anything, this will equal 1257:\", len(mh['ill']))\n",
    "\n",
    "ill_tab.plot(kind=\"bar\", \n",
    "                 figsize=(20,7),\n",
    "                 stacked=True)"
   ]
  },
  {
   "cell_type": "code",
   "execution_count": 31,
   "metadata": {
    "_cell_guid": "064e94c8-e787-4f29-b330-7babed2efaf1",
    "_uuid": "bb0ffa056f09ee8947f6fd94bfbff4c6ecb31e61"
   },
   "outputs": [
    {
     "data": {
      "image/png": "[encoded data removed]",
      "text/plain": [
       "<Figure size 720x504 with 1 Axes>"
      ]
     },
     "metadata": {},
     "output_type": "display_data"
    }
   ],
   "source": [
    "# Display the relationship between \"ill\" and \"region\"\n",
    "\n",
    "plt.figure(figsize=(10,7))\n",
    "sns.countplot(x=\"region\", hue=\"ill\", hue_order = [\"Yes\", \"No\"], data=mh)\n",
    "plt.suptitle(\"Mental Health Conditions v. Region (U.S.)\", fontsize=20)\n",
    "plt.title(\"Frequency of mental health conditions in the U.S. by region\", fontsize=16)\n",
    "plt.xlabel(\"\")\n",
    "plt.ylabel(\"\")\n",
    "plt.show()"
   ]
  },
  {
   "cell_type": "markdown",
   "metadata": {
    "_cell_guid": "50aee321-ab87-4851-92c0-db8222ebd65f",
    "_uuid": "8717ccde510b04b9e51f305e8706ba3eed14b072"
   },
   "source": [
    "#### 6B: How do attitudes towards mental health vary by geographic location?\n",
    "\n",
    "I will explore the <strong>region</strong> data and its relationship to attitudes towards mental health. A \"No\" response to <strong>mental_health_consequence</strong>  (\"Do you think that discussing a mental health issue with your employer would have negative consequences?\") will be inferred to represent positive attitudes toward mental health, while a \"Yes\" response will represent negative attitudes."
   ]
  },
  {
   "cell_type": "code",
   "execution_count": 32,
   "metadata": {
    "_cell_guid": "9cc9a99c-76a4-417b-afa0-837f6ad6db5d",
    "_uuid": "198cd3b06fe4d41f9ee13452cbf1f9b1027c286f"
   },
   "outputs": [
    {
     "name": "stdout",
     "output_type": "stream",
     "text": [
      "col_0      count\n",
      "attitudes       \n",
      "Moderate     477\n",
      "Negative     290\n",
      "Positive     490\n",
      "If we didn't miss anything, this will equal 1257: 1257\n",
      "AxesSubplot(0.125,0.125;0.775x0.755)\n"
     ]
    },
    {
     "data": {
      "image/png": "[encoded data removed]",
      "text/plain": [
       "<Figure size 1440x504 with 1 Axes>"
      ]
     },
     "metadata": {},
     "output_type": "display_data"
    },
    {
     "data": {
      "image/png": "[encoded data removed]",
      "text/plain": [
       "<Figure size 720x504 with 1 Axes>"
      ]
     },
     "metadata": {},
     "output_type": "display_data"
    },
    {
     "name": "stdout",
     "output_type": "stream",
     "text": [
      "None\n"
     ]
    }
   ],
   "source": [
    "# Convert the mental_health_consequence responses into a new variable, \n",
    "\n",
    "# Make a copy of the column to preserve the original data. Work with the new column going forward.\n",
    "mh['attitudes'] = mh['mental_health_consequence']\n",
    "\n",
    "# Assign each type of response to one of two categories\n",
    "positive = [\"No\"]\n",
    "negative = [\"Yes\"]\n",
    "moderate = ['Maybe']\n",
    "\n",
    "mh['attitudes'] = mh['attitudes'].apply(lambda x:\"Positive\" if x in positive else x)\n",
    "mh['attitudes'] = mh['attitudes'].apply(lambda x:\"Negative\" if x in negative else x)\n",
    "mh['attitudes'] = mh['attitudes'].apply(lambda x:\"Moderate\" if x in moderate else x)\n",
    "\n",
    "\n",
    "# Make a crosstab to view the count for each of the new categories\n",
    "attitudes_tab = pd.crosstab(index=mh[\"attitudes\"], columns=\"count\")\n",
    "\n",
    "print(attitudes_tab)\n",
    "\n",
    "# Confirm that we didn't miss any entries\n",
    "print(\"If we didn't miss anything, this will equal 1257:\", len(mh['attitudes']))\n",
    "\n",
    "print(attitudes_tab.plot(kind=\"bar\", \n",
    "                 figsize=(20,7),\n",
    "                 stacked=True))\n",
    "\n",
    "\n",
    "# Display the relationship between \"mental_health_consequence\" and \"region\"\n",
    "\n",
    "plt.figure(figsize=(10,7))\n",
    "sns.countplot(x=\"region\", hue=\"attitudes\", hue_order = [\"Positive\", \"Moderate\", \"Negative\"], data=mh)\n",
    "plt.suptitle(\"Mental Health Attitudes v. Region (U.S.)\", fontsize=20)\n",
    "plt.title(\"Attitudes towards mental health in the U.S. by region\", fontsize=16)\n",
    "plt.xlabel(\"\")\n",
    "plt.ylabel(\"\")\n",
    "print(plt.show())"
   ]
  },
  {
   "cell_type": "markdown",
   "metadata": {
    "_cell_guid": "22bfff41-6cdc-491a-8109-b819d0eb6961",
    "_uuid": "f9f380c0f74dcd03a3a2a7706e063a1c588ecf0c"
   },
   "source": [
    "## Next up:  6C- What are the strongest predictors of mental health illness or certain attitudes towards mental health in the workplace?\n"
   ]
  },
  {
   "cell_type": "markdown",
   "metadata": {
    "_cell_guid": "7f450152-b355-4c27-9818-c6d0d4d8b63f",
    "_uuid": "507332cf885bedf53f157e592599eae19b0422c8"
   },
   "source": [
    "## Next up: all of these charts are in raw numbers. How to show proportions, instead? \n",
    "\n",
    "This analysis is a living document and I am continuing to explore new, deeper questions with each iteration.  I will update this occasionally with the latest version.\n",
    "\n",
    "Thank you for reading! Please contact me with any questions or thoughts. -Liz"
   ]
  }
 ],
 "metadata": {
  "kernelspec": {
   "display_name": "Python 3",
   "language": "python",
   "name": "python3"
  },
  "language_info": {
   "codemirror_mode": {
    "name": "ipython",
    "version": 3
   },
   "file_extension": ".py",
   "mimetype": "text/x-python",
   "name": "python",
   "nbconvert_exporter": "python",
   "pygments_lexer": "ipython3",
   "version": "3.7.6"
  }
 },
 "nbformat": 4,
 "nbformat_minor": 4
}
